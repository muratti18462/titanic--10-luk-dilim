{
 "cells": [
  {
   "cell_type": "code",
   "execution_count": 1,
   "metadata": {
    "_cell_guid": "b1076dfc-b9ad-4769-8c92-a6c4dae69d19",
    "_uuid": "8f2839f25d086af736a60e9eeb907d3b93b6e0e5",
    "execution": {
     "iopub.execute_input": "2021-01-31T08:28:32.541194Z",
     "iopub.status.busy": "2021-01-31T08:28:32.540443Z",
     "iopub.status.idle": "2021-01-31T08:28:34.120733Z",
     "shell.execute_reply": "2021-01-31T08:28:34.119914Z"
    },
    "papermill": {
     "duration": 1.640045,
     "end_time": "2021-01-31T08:28:34.120981",
     "exception": false,
     "start_time": "2021-01-31T08:28:32.480936",
     "status": "completed"
    },
    "tags": []
   },
   "outputs": [
    {
     "name": "stdout",
     "output_type": "stream",
     "text": [
      "(891, 12)\n",
      "(418, 11)\n"
     ]
    }
   ],
   "source": [
    "import numpy as np\n",
    "import pandas as pd\n",
    "import seaborn as sns\n",
    "import matplotlib.pyplot as plt\n",
    "import warnings\n",
    "warnings.filterwarnings(\"ignore\") \n",
    " \n",
    "from sklearn.linear_model import LogisticRegression\n",
    "from sklearn.model_selection import train_test_split, cross_val_score,GridSearchCV\n",
    "from sklearn.preprocessing import StandardScaler, MinMaxScaler\n",
    "\n",
    "\n",
    "train = pd.read_csv('/kaggle/input/titanic/train.csv')\n",
    "test = pd.read_csv('/kaggle/input/titanic/test.csv')\n",
    "sample_submission = pd.read_csv('/kaggle/input/titanic/gender_submission.csv')\n",
    "\n",
    "print(train.shape)\n",
    "print(test.shape)"
   ]
  },
  {
   "cell_type": "code",
   "execution_count": 2,
   "metadata": {
    "execution": {
     "iopub.execute_input": "2021-01-31T08:28:34.258835Z",
     "iopub.status.busy": "2021-01-31T08:28:34.258093Z",
     "iopub.status.idle": "2021-01-31T08:28:34.467925Z",
     "shell.execute_reply": "2021-01-31T08:28:34.467357Z"
    },
    "papermill": {
     "duration": 0.290892,
     "end_time": "2021-01-31T08:28:34.468085",
     "exception": false,
     "start_time": "2021-01-31T08:28:34.177193",
     "status": "completed"
    },
    "tags": []
   },
   "outputs": [
    {
     "data": {
      "text/html": [
       "<div>\n",
       "<style scoped>\n",
       "    .dataframe tbody tr th:only-of-type {\n",
       "        vertical-align: middle;\n",
       "    }\n",
       "\n",
       "    .dataframe tbody tr th {\n",
       "        vertical-align: top;\n",
       "    }\n",
       "\n",
       "    .dataframe thead th {\n",
       "        text-align: right;\n",
       "    }\n",
       "</style>\n",
       "<table border=\"1\" class=\"dataframe\">\n",
       "  <thead>\n",
       "    <tr style=\"text-align: right;\">\n",
       "      <th></th>\n",
       "      <th>PassengerId</th>\n",
       "      <th>Survived</th>\n",
       "      <th>Pclass</th>\n",
       "      <th>Name</th>\n",
       "      <th>Sex</th>\n",
       "      <th>Age</th>\n",
       "      <th>SibSp</th>\n",
       "      <th>Parch</th>\n",
       "      <th>Ticket</th>\n",
       "      <th>Fare</th>\n",
       "      <th>Cabin</th>\n",
       "      <th>Embarked</th>\n",
       "    </tr>\n",
       "  </thead>\n",
       "  <tbody>\n",
       "    <tr>\n",
       "      <th>count</th>\n",
       "      <td>891.000000</td>\n",
       "      <td>891.000000</td>\n",
       "      <td>891.000000</td>\n",
       "      <td>891</td>\n",
       "      <td>891</td>\n",
       "      <td>714.000000</td>\n",
       "      <td>891.000000</td>\n",
       "      <td>891.000000</td>\n",
       "      <td>891</td>\n",
       "      <td>891.000000</td>\n",
       "      <td>204</td>\n",
       "      <td>889</td>\n",
       "    </tr>\n",
       "    <tr>\n",
       "      <th>unique</th>\n",
       "      <td>NaN</td>\n",
       "      <td>NaN</td>\n",
       "      <td>NaN</td>\n",
       "      <td>891</td>\n",
       "      <td>2</td>\n",
       "      <td>NaN</td>\n",
       "      <td>NaN</td>\n",
       "      <td>NaN</td>\n",
       "      <td>681</td>\n",
       "      <td>NaN</td>\n",
       "      <td>147</td>\n",
       "      <td>3</td>\n",
       "    </tr>\n",
       "    <tr>\n",
       "      <th>top</th>\n",
       "      <td>NaN</td>\n",
       "      <td>NaN</td>\n",
       "      <td>NaN</td>\n",
       "      <td>Ford, Mr. William Neal</td>\n",
       "      <td>male</td>\n",
       "      <td>NaN</td>\n",
       "      <td>NaN</td>\n",
       "      <td>NaN</td>\n",
       "      <td>347082</td>\n",
       "      <td>NaN</td>\n",
       "      <td>G6</td>\n",
       "      <td>S</td>\n",
       "    </tr>\n",
       "    <tr>\n",
       "      <th>freq</th>\n",
       "      <td>NaN</td>\n",
       "      <td>NaN</td>\n",
       "      <td>NaN</td>\n",
       "      <td>1</td>\n",
       "      <td>577</td>\n",
       "      <td>NaN</td>\n",
       "      <td>NaN</td>\n",
       "      <td>NaN</td>\n",
       "      <td>7</td>\n",
       "      <td>NaN</td>\n",
       "      <td>4</td>\n",
       "      <td>644</td>\n",
       "    </tr>\n",
       "    <tr>\n",
       "      <th>mean</th>\n",
       "      <td>446.000000</td>\n",
       "      <td>0.383838</td>\n",
       "      <td>2.308642</td>\n",
       "      <td>NaN</td>\n",
       "      <td>NaN</td>\n",
       "      <td>29.699118</td>\n",
       "      <td>0.523008</td>\n",
       "      <td>0.381594</td>\n",
       "      <td>NaN</td>\n",
       "      <td>32.204208</td>\n",
       "      <td>NaN</td>\n",
       "      <td>NaN</td>\n",
       "    </tr>\n",
       "    <tr>\n",
       "      <th>std</th>\n",
       "      <td>257.353842</td>\n",
       "      <td>0.486592</td>\n",
       "      <td>0.836071</td>\n",
       "      <td>NaN</td>\n",
       "      <td>NaN</td>\n",
       "      <td>14.526497</td>\n",
       "      <td>1.102743</td>\n",
       "      <td>0.806057</td>\n",
       "      <td>NaN</td>\n",
       "      <td>49.693429</td>\n",
       "      <td>NaN</td>\n",
       "      <td>NaN</td>\n",
       "    </tr>\n",
       "    <tr>\n",
       "      <th>min</th>\n",
       "      <td>1.000000</td>\n",
       "      <td>0.000000</td>\n",
       "      <td>1.000000</td>\n",
       "      <td>NaN</td>\n",
       "      <td>NaN</td>\n",
       "      <td>0.420000</td>\n",
       "      <td>0.000000</td>\n",
       "      <td>0.000000</td>\n",
       "      <td>NaN</td>\n",
       "      <td>0.000000</td>\n",
       "      <td>NaN</td>\n",
       "      <td>NaN</td>\n",
       "    </tr>\n",
       "    <tr>\n",
       "      <th>25%</th>\n",
       "      <td>223.500000</td>\n",
       "      <td>0.000000</td>\n",
       "      <td>2.000000</td>\n",
       "      <td>NaN</td>\n",
       "      <td>NaN</td>\n",
       "      <td>20.125000</td>\n",
       "      <td>0.000000</td>\n",
       "      <td>0.000000</td>\n",
       "      <td>NaN</td>\n",
       "      <td>7.910400</td>\n",
       "      <td>NaN</td>\n",
       "      <td>NaN</td>\n",
       "    </tr>\n",
       "    <tr>\n",
       "      <th>50%</th>\n",
       "      <td>446.000000</td>\n",
       "      <td>0.000000</td>\n",
       "      <td>3.000000</td>\n",
       "      <td>NaN</td>\n",
       "      <td>NaN</td>\n",
       "      <td>28.000000</td>\n",
       "      <td>0.000000</td>\n",
       "      <td>0.000000</td>\n",
       "      <td>NaN</td>\n",
       "      <td>14.454200</td>\n",
       "      <td>NaN</td>\n",
       "      <td>NaN</td>\n",
       "    </tr>\n",
       "    <tr>\n",
       "      <th>75%</th>\n",
       "      <td>668.500000</td>\n",
       "      <td>1.000000</td>\n",
       "      <td>3.000000</td>\n",
       "      <td>NaN</td>\n",
       "      <td>NaN</td>\n",
       "      <td>38.000000</td>\n",
       "      <td>1.000000</td>\n",
       "      <td>0.000000</td>\n",
       "      <td>NaN</td>\n",
       "      <td>31.000000</td>\n",
       "      <td>NaN</td>\n",
       "      <td>NaN</td>\n",
       "    </tr>\n",
       "    <tr>\n",
       "      <th>max</th>\n",
       "      <td>891.000000</td>\n",
       "      <td>1.000000</td>\n",
       "      <td>3.000000</td>\n",
       "      <td>NaN</td>\n",
       "      <td>NaN</td>\n",
       "      <td>80.000000</td>\n",
       "      <td>8.000000</td>\n",
       "      <td>6.000000</td>\n",
       "      <td>NaN</td>\n",
       "      <td>512.329200</td>\n",
       "      <td>NaN</td>\n",
       "      <td>NaN</td>\n",
       "    </tr>\n",
       "  </tbody>\n",
       "</table>\n",
       "</div>"
      ],
      "text/plain": [
       "        PassengerId    Survived      Pclass                    Name   Sex  \\\n",
       "count    891.000000  891.000000  891.000000                     891   891   \n",
       "unique          NaN         NaN         NaN                     891     2   \n",
       "top             NaN         NaN         NaN  Ford, Mr. William Neal  male   \n",
       "freq            NaN         NaN         NaN                       1   577   \n",
       "mean     446.000000    0.383838    2.308642                     NaN   NaN   \n",
       "std      257.353842    0.486592    0.836071                     NaN   NaN   \n",
       "min        1.000000    0.000000    1.000000                     NaN   NaN   \n",
       "25%      223.500000    0.000000    2.000000                     NaN   NaN   \n",
       "50%      446.000000    0.000000    3.000000                     NaN   NaN   \n",
       "75%      668.500000    1.000000    3.000000                     NaN   NaN   \n",
       "max      891.000000    1.000000    3.000000                     NaN   NaN   \n",
       "\n",
       "               Age       SibSp       Parch  Ticket        Fare Cabin Embarked  \n",
       "count   714.000000  891.000000  891.000000     891  891.000000   204      889  \n",
       "unique         NaN         NaN         NaN     681         NaN   147        3  \n",
       "top            NaN         NaN         NaN  347082         NaN    G6        S  \n",
       "freq           NaN         NaN         NaN       7         NaN     4      644  \n",
       "mean     29.699118    0.523008    0.381594     NaN   32.204208   NaN      NaN  \n",
       "std      14.526497    1.102743    0.806057     NaN   49.693429   NaN      NaN  \n",
       "min       0.420000    0.000000    0.000000     NaN    0.000000   NaN      NaN  \n",
       "25%      20.125000    0.000000    0.000000     NaN    7.910400   NaN      NaN  \n",
       "50%      28.000000    0.000000    0.000000     NaN   14.454200   NaN      NaN  \n",
       "75%      38.000000    1.000000    0.000000     NaN   31.000000   NaN      NaN  \n",
       "max      80.000000    8.000000    6.000000     NaN  512.329200   NaN      NaN  "
      ]
     },
     "execution_count": 2,
     "metadata": {},
     "output_type": "execute_result"
    }
   ],
   "source": [
    "train.describe(include = 'all')"
   ]
  },
  {
   "cell_type": "code",
   "execution_count": 3,
   "metadata": {
    "execution": {
     "iopub.execute_input": "2021-01-31T08:28:34.601705Z",
     "iopub.status.busy": "2021-01-31T08:28:34.600883Z",
     "iopub.status.idle": "2021-01-31T08:28:34.605234Z",
     "shell.execute_reply": "2021-01-31T08:28:34.605706Z"
    },
    "papermill": {
     "duration": 0.080622,
     "end_time": "2021-01-31T08:28:34.605902",
     "exception": false,
     "start_time": "2021-01-31T08:28:34.525280",
     "status": "completed"
    },
    "tags": []
   },
   "outputs": [
    {
     "name": "stdout",
     "output_type": "stream",
     "text": [
      "<class 'pandas.core.frame.DataFrame'>\n",
      "RangeIndex: 891 entries, 0 to 890\n",
      "Data columns (total 12 columns):\n",
      " #   Column       Non-Null Count  Dtype  \n",
      "---  ------       --------------  -----  \n",
      " 0   PassengerId  891 non-null    int64  \n",
      " 1   Survived     891 non-null    int64  \n",
      " 2   Pclass       891 non-null    int64  \n",
      " 3   Name         891 non-null    object \n",
      " 4   Sex          891 non-null    object \n",
      " 5   Age          714 non-null    float64\n",
      " 6   SibSp        891 non-null    int64  \n",
      " 7   Parch        891 non-null    int64  \n",
      " 8   Ticket       891 non-null    object \n",
      " 9   Fare         891 non-null    float64\n",
      " 10  Cabin        204 non-null    object \n",
      " 11  Embarked     889 non-null    object \n",
      "dtypes: float64(2), int64(5), object(5)\n",
      "memory usage: 83.7+ KB\n"
     ]
    }
   ],
   "source": [
    "train.info()"
   ]
  },
  {
   "cell_type": "code",
   "execution_count": 4,
   "metadata": {
    "execution": {
     "iopub.execute_input": "2021-01-31T08:28:34.728769Z",
     "iopub.status.busy": "2021-01-31T08:28:34.728070Z",
     "iopub.status.idle": "2021-01-31T08:28:34.737161Z",
     "shell.execute_reply": "2021-01-31T08:28:34.737651Z"
    },
    "papermill": {
     "duration": 0.074346,
     "end_time": "2021-01-31T08:28:34.737840",
     "exception": false,
     "start_time": "2021-01-31T08:28:34.663494",
     "status": "completed"
    },
    "tags": []
   },
   "outputs": [
    {
     "data": {
      "text/plain": [
       "PassengerId    0.000000\n",
       "Survived       0.000000\n",
       "Pclass         0.000000\n",
       "Name           0.000000\n",
       "Sex            0.000000\n",
       "Age            0.198653\n",
       "SibSp          0.000000\n",
       "Parch          0.000000\n",
       "Ticket         0.000000\n",
       "Fare           0.000000\n",
       "Cabin          0.771044\n",
       "Embarked       0.002245\n",
       "dtype: float64"
      ]
     },
     "execution_count": 4,
     "metadata": {},
     "output_type": "execute_result"
    }
   ],
   "source": [
    "### Null values in TRAIN\n",
    "train.isnull().sum()/train.isnull().count()"
   ]
  },
  {
   "cell_type": "markdown",
   "metadata": {
    "papermill": {
     "duration": 0.070399,
     "end_time": "2021-01-31T08:28:34.871147",
     "exception": false,
     "start_time": "2021-01-31T08:28:34.800748",
     "status": "completed"
    },
    "tags": []
   },
   "source": [
    "- Age has %19.83 missing values\n",
    "- Cabin has %77.1 missing values\n",
    "- Embarked has only %0.22 missing values"
   ]
  },
  {
   "cell_type": "code",
   "execution_count": 5,
   "metadata": {
    "execution": {
     "iopub.execute_input": "2021-01-31T08:28:35.035589Z",
     "iopub.status.busy": "2021-01-31T08:28:35.034193Z",
     "iopub.status.idle": "2021-01-31T08:28:35.040674Z",
     "shell.execute_reply": "2021-01-31T08:28:35.039955Z"
    },
    "papermill": {
     "duration": 0.094078,
     "end_time": "2021-01-31T08:28:35.040848",
     "exception": false,
     "start_time": "2021-01-31T08:28:34.946770",
     "status": "completed"
    },
    "tags": []
   },
   "outputs": [
    {
     "data": {
      "text/plain": [
       "PassengerId    0.000000\n",
       "Pclass         0.000000\n",
       "Name           0.000000\n",
       "Sex            0.000000\n",
       "Age            0.205742\n",
       "SibSp          0.000000\n",
       "Parch          0.000000\n",
       "Ticket         0.000000\n",
       "Fare           0.002392\n",
       "Cabin          0.782297\n",
       "Embarked       0.000000\n",
       "dtype: float64"
      ]
     },
     "execution_count": 5,
     "metadata": {},
     "output_type": "execute_result"
    }
   ],
   "source": [
    "### Null values in TEST\n",
    "test.isnull().sum()/test.isnull().count()"
   ]
  },
  {
   "cell_type": "markdown",
   "metadata": {
    "papermill": {
     "duration": 0.058248,
     "end_time": "2021-01-31T08:28:35.157119",
     "exception": false,
     "start_time": "2021-01-31T08:28:35.098871",
     "status": "completed"
    },
    "tags": []
   },
   "source": [
    "- Age has %20.57 missing values\n",
    "- Cabin has %78.2 missing values\n",
    "- Embarked has only %0.23 missing values"
   ]
  },
  {
   "cell_type": "markdown",
   "metadata": {
    "papermill": {
     "duration": 0.058748,
     "end_time": "2021-01-31T08:28:35.275834",
     "exception": false,
     "start_time": "2021-01-31T08:28:35.217086",
     "status": "completed"
    },
    "tags": []
   },
   "source": [
    "## SURVIVED"
   ]
  },
  {
   "cell_type": "code",
   "execution_count": 6,
   "metadata": {
    "execution": {
     "iopub.execute_input": "2021-01-31T08:28:35.407549Z",
     "iopub.status.busy": "2021-01-31T08:28:35.406875Z",
     "iopub.status.idle": "2021-01-31T08:28:35.560477Z",
     "shell.execute_reply": "2021-01-31T08:28:35.559548Z"
    },
    "papermill": {
     "duration": 0.226898,
     "end_time": "2021-01-31T08:28:35.560649",
     "exception": false,
     "start_time": "2021-01-31T08:28:35.333751",
     "status": "completed"
    },
    "tags": []
   },
   "outputs": [
    {
     "name": "stdout",
     "output_type": "stream",
     "text": [
      "Percent of Survived\n",
      "0    0.616162\n",
      "1    0.383838\n",
      "Name: PassengerId, dtype: float64\n"
     ]
    },
    {
     "data": {
      "image/png": "[encoded data removed]",
      "text/plain": [
       "<Figure size 432x288 with 1 Axes>"
      ]
     },
     "metadata": {
      "needs_background": "light"
     },
     "output_type": "display_data"
    }
   ],
   "source": [
    "sns.barplot(train['Survived'].unique(), train.groupby(['Survived'])['PassengerId'].count());\n",
    "print('Percent of' ,train.groupby(['Survived'])['PassengerId'].count()/ train['PassengerId'].count())"
   ]
  },
  {
   "cell_type": "markdown",
   "metadata": {
    "papermill": {
     "duration": 0.055977,
     "end_time": "2021-01-31T08:28:35.675100",
     "exception": false,
     "start_time": "2021-01-31T08:28:35.619123",
     "status": "completed"
    },
    "tags": []
   },
   "source": [
    "#### We have %38.4 survival rate"
   ]
  },
  {
   "cell_type": "code",
   "execution_count": 7,
   "metadata": {
    "execution": {
     "iopub.execute_input": "2021-01-31T08:28:35.800341Z",
     "iopub.status.busy": "2021-01-31T08:28:35.799415Z",
     "iopub.status.idle": "2021-01-31T08:28:35.803134Z",
     "shell.execute_reply": "2021-01-31T08:28:35.802455Z"
    },
    "papermill": {
     "duration": 0.068744,
     "end_time": "2021-01-31T08:28:35.803291",
     "exception": false,
     "start_time": "2021-01-31T08:28:35.734547",
     "status": "completed"
    },
    "tags": []
   },
   "outputs": [],
   "source": [
    "### I will add a counter to train set in order to ease ploting features\n",
    "train['total_count'] = 1"
   ]
  },
  {
   "cell_type": "markdown",
   "metadata": {
    "papermill": {
     "duration": 0.057325,
     "end_time": "2021-01-31T08:28:35.919240",
     "exception": false,
     "start_time": "2021-01-31T08:28:35.861915",
     "status": "completed"
    },
    "tags": []
   },
   "source": [
    "## Pclass"
   ]
  },
  {
   "cell_type": "code",
   "execution_count": 8,
   "metadata": {
    "execution": {
     "iopub.execute_input": "2021-01-31T08:28:36.045571Z",
     "iopub.status.busy": "2021-01-31T08:28:36.044455Z",
     "iopub.status.idle": "2021-01-31T08:28:36.262533Z",
     "shell.execute_reply": "2021-01-31T08:28:36.261873Z"
    },
    "papermill": {
     "duration": 0.284472,
     "end_time": "2021-01-31T08:28:36.262692",
     "exception": false,
     "start_time": "2021-01-31T08:28:35.978220",
     "status": "completed"
    },
    "tags": []
   },
   "outputs": [
    {
     "data": {
      "text/html": [
       "<div>\n",
       "<style scoped>\n",
       "    .dataframe tbody tr th:only-of-type {\n",
       "        vertical-align: middle;\n",
       "    }\n",
       "\n",
       "    .dataframe tbody tr th {\n",
       "        vertical-align: top;\n",
       "    }\n",
       "\n",
       "    .dataframe thead th {\n",
       "        text-align: right;\n",
       "    }\n",
       "</style>\n",
       "<table border=\"1\" class=\"dataframe\">\n",
       "  <thead>\n",
       "    <tr style=\"text-align: right;\">\n",
       "      <th></th>\n",
       "      <th>Pclass</th>\n",
       "      <th>Survived</th>\n",
       "      <th>total_count</th>\n",
       "    </tr>\n",
       "  </thead>\n",
       "  <tbody>\n",
       "    <tr>\n",
       "      <th>0</th>\n",
       "      <td>1</td>\n",
       "      <td>0</td>\n",
       "      <td>0.089787</td>\n",
       "    </tr>\n",
       "    <tr>\n",
       "      <th>1</th>\n",
       "      <td>1</td>\n",
       "      <td>1</td>\n",
       "      <td>0.152637</td>\n",
       "    </tr>\n",
       "    <tr>\n",
       "      <th>2</th>\n",
       "      <td>2</td>\n",
       "      <td>0</td>\n",
       "      <td>0.108866</td>\n",
       "    </tr>\n",
       "    <tr>\n",
       "      <th>3</th>\n",
       "      <td>2</td>\n",
       "      <td>1</td>\n",
       "      <td>0.097643</td>\n",
       "    </tr>\n",
       "    <tr>\n",
       "      <th>4</th>\n",
       "      <td>3</td>\n",
       "      <td>0</td>\n",
       "      <td>0.417508</td>\n",
       "    </tr>\n",
       "    <tr>\n",
       "      <th>5</th>\n",
       "      <td>3</td>\n",
       "      <td>1</td>\n",
       "      <td>0.133558</td>\n",
       "    </tr>\n",
       "  </tbody>\n",
       "</table>\n",
       "</div>"
      ],
      "text/plain": [
       "   Pclass  Survived  total_count\n",
       "0       1         0     0.089787\n",
       "1       1         1     0.152637\n",
       "2       2         0     0.108866\n",
       "3       2         1     0.097643\n",
       "4       3         0     0.417508\n",
       "5       3         1     0.133558"
      ]
     },
     "execution_count": 8,
     "metadata": {},
     "output_type": "execute_result"
    },
    {
     "data": {
      "image/png": "[encoded data removed]",
      "text/plain": [
       "<Figure size 432x288 with 1 Axes>"
      ]
     },
     "metadata": {
      "needs_background": "light"
     },
     "output_type": "display_data"
    }
   ],
   "source": [
    "sns.barplot(data = pd.DataFrame(train.groupby(['Pclass','Survived'])['total_count'].count()).reset_index()\n",
    "            , x = 'Pclass',y='total_count', hue = 'Survived');\n",
    "pd.DataFrame(train.groupby(['Pclass','Survived'])['total_count'].count()\n",
    "             /train['total_count'].sum()).reset_index().rename(columns={'train': '% of Total Survived'})"
   ]
  },
  {
   "cell_type": "markdown",
   "metadata": {
    "papermill": {
     "duration": 0.062389,
     "end_time": "2021-01-31T08:28:36.385245",
     "exception": false,
     "start_time": "2021-01-31T08:28:36.322856",
     "status": "completed"
    },
    "tags": []
   },
   "source": [
    "#### While *Pclass* might seem important, having a low-numbered class might mean getting off from ship somehow easier"
   ]
  },
  {
   "cell_type": "markdown",
   "metadata": {
    "papermill": {
     "duration": 0.059367,
     "end_time": "2021-01-31T08:28:36.504030",
     "exception": false,
     "start_time": "2021-01-31T08:28:36.444663",
     "status": "completed"
    },
    "tags": []
   },
   "source": [
    "## Name"
   ]
  },
  {
   "cell_type": "code",
   "execution_count": 9,
   "metadata": {
    "execution": {
     "iopub.execute_input": "2021-01-31T08:28:36.624792Z",
     "iopub.status.busy": "2021-01-31T08:28:36.623770Z",
     "iopub.status.idle": "2021-01-31T08:28:36.630440Z",
     "shell.execute_reply": "2021-01-31T08:28:36.629809Z"
    },
    "papermill": {
     "duration": 0.069183,
     "end_time": "2021-01-31T08:28:36.630622",
     "exception": false,
     "start_time": "2021-01-31T08:28:36.561439",
     "status": "completed"
    },
    "tags": []
   },
   "outputs": [
    {
     "data": {
      "text/plain": [
       "891"
      ]
     },
     "execution_count": 9,
     "metadata": {},
     "output_type": "execute_result"
    }
   ],
   "source": [
    "train.Name.nunique()"
   ]
  },
  {
   "cell_type": "code",
   "execution_count": 10,
   "metadata": {
    "execution": {
     "iopub.execute_input": "2021-01-31T08:28:36.769436Z",
     "iopub.status.busy": "2021-01-31T08:28:36.768481Z",
     "iopub.status.idle": "2021-01-31T08:28:36.772652Z",
     "shell.execute_reply": "2021-01-31T08:28:36.772035Z"
    },
    "papermill": {
     "duration": 0.083481,
     "end_time": "2021-01-31T08:28:36.772843",
     "exception": false,
     "start_time": "2021-01-31T08:28:36.689362",
     "status": "completed"
    },
    "tags": []
   },
   "outputs": [],
   "source": [
    "### Since every passenger has a unique Name, we can only extract their titles\n",
    "train['Title'] = train['Name'].str.split(\", \", expand=True)[1].str.split(\".\", expand=True)[0]\n",
    "test['Title'] = test['Name'].str.split(\", \", expand=True)[1].str.split(\".\", expand=True)[0]"
   ]
  },
  {
   "cell_type": "code",
   "execution_count": 11,
   "metadata": {
    "execution": {
     "iopub.execute_input": "2021-01-31T08:28:36.899655Z",
     "iopub.status.busy": "2021-01-31T08:28:36.898916Z",
     "iopub.status.idle": "2021-01-31T08:28:36.904960Z",
     "shell.execute_reply": "2021-01-31T08:28:36.905487Z"
    },
    "papermill": {
     "duration": 0.071489,
     "end_time": "2021-01-31T08:28:36.905693",
     "exception": false,
     "start_time": "2021-01-31T08:28:36.834204",
     "status": "completed"
    },
    "tags": []
   },
   "outputs": [
    {
     "data": {
      "text/plain": [
       "Title\n",
       "Capt              1\n",
       "Col               2\n",
       "Don               1\n",
       "Dr                7\n",
       "Jonkheer          1\n",
       "Lady              1\n",
       "Major             2\n",
       "Master           40\n",
       "Miss            182\n",
       "Mlle              2\n",
       "Mme               1\n",
       "Mr              517\n",
       "Mrs             125\n",
       "Ms                1\n",
       "Rev               6\n",
       "Sir               1\n",
       "the Countess      1\n",
       "Name: PassengerId, dtype: int64"
      ]
     },
     "execution_count": 11,
     "metadata": {},
     "output_type": "execute_result"
    }
   ],
   "source": [
    "train.groupby('Title')['PassengerId'].count()"
   ]
  },
  {
   "cell_type": "code",
   "execution_count": 12,
   "metadata": {
    "execution": {
     "iopub.execute_input": "2021-01-31T08:28:37.029803Z",
     "iopub.status.busy": "2021-01-31T08:28:37.029124Z",
     "iopub.status.idle": "2021-01-31T08:28:37.039345Z",
     "shell.execute_reply": "2021-01-31T08:28:37.038788Z"
    },
    "papermill": {
     "duration": 0.072431,
     "end_time": "2021-01-31T08:28:37.039521",
     "exception": false,
     "start_time": "2021-01-31T08:28:36.967090",
     "status": "completed"
    },
    "tags": []
   },
   "outputs": [
    {
     "data": {
      "text/plain": [
       "Title\n",
       "Col         2\n",
       "Dona        1\n",
       "Dr          1\n",
       "Master     21\n",
       "Miss       78\n",
       "Mr        240\n",
       "Mrs        72\n",
       "Ms          1\n",
       "Rev         2\n",
       "Name: PassengerId, dtype: int64"
      ]
     },
     "execution_count": 12,
     "metadata": {},
     "output_type": "execute_result"
    }
   ],
   "source": [
    "test.groupby('Title')['PassengerId'].count()"
   ]
  },
  {
   "cell_type": "markdown",
   "metadata": {
    "papermill": {
     "duration": 0.062762,
     "end_time": "2021-01-31T08:28:37.161520",
     "exception": false,
     "start_time": "2021-01-31T08:28:37.098758",
     "status": "completed"
    },
    "tags": []
   },
   "source": [
    "#### Create a group for least occuring titles"
   ]
  },
  {
   "cell_type": "code",
   "execution_count": 13,
   "metadata": {
    "execution": {
     "iopub.execute_input": "2021-01-31T08:28:37.293915Z",
     "iopub.status.busy": "2021-01-31T08:28:37.293154Z",
     "iopub.status.idle": "2021-01-31T08:28:37.302585Z",
     "shell.execute_reply": "2021-01-31T08:28:37.301539Z"
    },
    "papermill": {
     "duration": 0.077829,
     "end_time": "2021-01-31T08:28:37.302781",
     "exception": false,
     "start_time": "2021-01-31T08:28:37.224952",
     "status": "completed"
    },
    "tags": []
   },
   "outputs": [],
   "source": [
    "train['Title'] = train['Title'].replace(['Capt','Col','Don','Dr','Jonkheer','Lady','Major' \n",
    "                                         ,'Mlle','Mme','Ms','Rev','Sir','the Countess','Dona'], 'Others')\n",
    "test['Title'] = test['Title'].replace(['Capt','Col','Don','Dr','Jonkheer','Lady','Major' \n",
    "                                         ,'Mlle','Mme','Ms','Rev','Sir','the Countess','Dona'], 'Others')"
   ]
  },
  {
   "cell_type": "code",
   "execution_count": 14,
   "metadata": {
    "execution": {
     "iopub.execute_input": "2021-01-31T08:28:37.437380Z",
     "iopub.status.busy": "2021-01-31T08:28:37.436239Z",
     "iopub.status.idle": "2021-01-31T08:28:37.674733Z",
     "shell.execute_reply": "2021-01-31T08:28:37.674179Z"
    },
    "papermill": {
     "duration": 0.309998,
     "end_time": "2021-01-31T08:28:37.674893",
     "exception": false,
     "start_time": "2021-01-31T08:28:37.364895",
     "status": "completed"
    },
    "tags": []
   },
   "outputs": [
    {
     "data": {
      "text/html": [
       "<div>\n",
       "<style scoped>\n",
       "    .dataframe tbody tr th:only-of-type {\n",
       "        vertical-align: middle;\n",
       "    }\n",
       "\n",
       "    .dataframe tbody tr th {\n",
       "        vertical-align: top;\n",
       "    }\n",
       "\n",
       "    .dataframe thead th {\n",
       "        text-align: right;\n",
       "    }\n",
       "</style>\n",
       "<table border=\"1\" class=\"dataframe\">\n",
       "  <thead>\n",
       "    <tr style=\"text-align: right;\">\n",
       "      <th></th>\n",
       "      <th>Survived</th>\n",
       "    </tr>\n",
       "    <tr>\n",
       "      <th>Title</th>\n",
       "      <th></th>\n",
       "    </tr>\n",
       "  </thead>\n",
       "  <tbody>\n",
       "    <tr>\n",
       "      <th>Master</th>\n",
       "      <td>0.575000</td>\n",
       "    </tr>\n",
       "    <tr>\n",
       "      <th>Miss</th>\n",
       "      <td>0.697802</td>\n",
       "    </tr>\n",
       "    <tr>\n",
       "      <th>Mr</th>\n",
       "      <td>0.156673</td>\n",
       "    </tr>\n",
       "    <tr>\n",
       "      <th>Mrs</th>\n",
       "      <td>0.792000</td>\n",
       "    </tr>\n",
       "    <tr>\n",
       "      <th>Others</th>\n",
       "      <td>0.444444</td>\n",
       "    </tr>\n",
       "  </tbody>\n",
       "</table>\n",
       "</div>"
      ],
      "text/plain": [
       "        Survived\n",
       "Title           \n",
       "Master  0.575000\n",
       "Miss    0.697802\n",
       "Mr      0.156673\n",
       "Mrs     0.792000\n",
       "Others  0.444444"
      ]
     },
     "execution_count": 14,
     "metadata": {},
     "output_type": "execute_result"
    },
    {
     "data": {
      "image/png": "[encoded data removed]",
      "text/plain": [
       "<Figure size 432x288 with 1 Axes>"
      ]
     },
     "metadata": {
      "needs_background": "light"
     },
     "output_type": "display_data"
    }
   ],
   "source": [
    "sns.barplot(data = pd.DataFrame(train.groupby(['Title','Survived'])['total_count'].count()).reset_index()\n",
    "            , x = 'Title',y='total_count', hue = 'Survived');\n",
    "pd.DataFrame(train.groupby('Title')['Survived'].mean())"
   ]
  },
  {
   "cell_type": "markdown",
   "metadata": {
    "papermill": {
     "duration": 0.062073,
     "end_time": "2021-01-31T08:28:37.798413",
     "exception": false,
     "start_time": "2021-01-31T08:28:37.736340",
     "status": "completed"
    },
    "tags": []
   },
   "source": [
    "#### There are some passenger with pseudonym lets flag these passengers"
   ]
  },
  {
   "cell_type": "code",
   "execution_count": 15,
   "metadata": {
    "execution": {
     "iopub.execute_input": "2021-01-31T08:28:37.944609Z",
     "iopub.status.busy": "2021-01-31T08:28:37.941832Z",
     "iopub.status.idle": "2021-01-31T08:28:37.949573Z",
     "shell.execute_reply": "2021-01-31T08:28:37.948967Z"
    },
    "papermill": {
     "duration": 0.090595,
     "end_time": "2021-01-31T08:28:37.949748",
     "exception": false,
     "start_time": "2021-01-31T08:28:37.859153",
     "status": "completed"
    },
    "tags": []
   },
   "outputs": [],
   "source": [
    "has_pseudonym = []\n",
    "for i in range(len(train)):\n",
    "    name = train['Name'][i]\n",
    "    if ')' in name:\n",
    "        has_pseudonym.append(1)\n",
    "    else:\n",
    "        has_pseudonym.append(0)\n",
    "        \n",
    "train['has_pseudonym'] = has_pseudonym"
   ]
  },
  {
   "cell_type": "code",
   "execution_count": 16,
   "metadata": {
    "execution": {
     "iopub.execute_input": "2021-01-31T08:28:38.081473Z",
     "iopub.status.busy": "2021-01-31T08:28:38.080697Z",
     "iopub.status.idle": "2021-01-31T08:28:38.269452Z",
     "shell.execute_reply": "2021-01-31T08:28:38.268881Z"
    },
    "papermill": {
     "duration": 0.256638,
     "end_time": "2021-01-31T08:28:38.269643",
     "exception": false,
     "start_time": "2021-01-31T08:28:38.013005",
     "status": "completed"
    },
    "tags": []
   },
   "outputs": [
    {
     "name": "stdout",
     "output_type": "stream",
     "text": [
      "has_pseudonym\n",
      "0    0.310160\n",
      "1    0.769231\n",
      "Name: Survived, dtype: float64\n"
     ]
    },
    {
     "data": {
      "image/png": "[encoded data removed]",
      "text/plain": [
       "<Figure size 432x288 with 1 Axes>"
      ]
     },
     "metadata": {
      "needs_background": "light"
     },
     "output_type": "display_data"
    }
   ],
   "source": [
    "sns.barplot(data = pd.DataFrame(train.groupby(['has_pseudonym','Survived'])['total_count'].count()).reset_index()\n",
    "            , x = 'has_pseudonym',y='total_count', hue = 'Survived');\n",
    "print(train.groupby(['has_pseudonym'])['Survived'].mean())"
   ]
  },
  {
   "cell_type": "markdown",
   "metadata": {
    "papermill": {
     "duration": 0.066998,
     "end_time": "2021-01-31T08:28:38.405359",
     "exception": false,
     "start_time": "2021-01-31T08:28:38.338361",
     "status": "completed"
    },
    "tags": []
   },
   "source": [
    "#### Having pseudonym increase the survival rate"
   ]
  },
  {
   "cell_type": "code",
   "execution_count": 17,
   "metadata": {
    "execution": {
     "iopub.execute_input": "2021-01-31T08:28:38.563672Z",
     "iopub.status.busy": "2021-01-31T08:28:38.558987Z",
     "iopub.status.idle": "2021-01-31T08:28:38.567652Z",
     "shell.execute_reply": "2021-01-31T08:28:38.566941Z"
    },
    "papermill": {
     "duration": 0.08965,
     "end_time": "2021-01-31T08:28:38.567824",
     "exception": false,
     "start_time": "2021-01-31T08:28:38.478174",
     "status": "completed"
    },
    "tags": []
   },
   "outputs": [],
   "source": [
    "has_pseudonym = []\n",
    "for i in range(len(test)):\n",
    "    name = test['Name'][i]\n",
    "    if ')' in name:\n",
    "        has_pseudonym.append(1)\n",
    "    else:\n",
    "        has_pseudonym.append(0)\n",
    "        \n",
    "test['has_pseudonym'] = has_pseudonym"
   ]
  },
  {
   "cell_type": "markdown",
   "metadata": {
    "papermill": {
     "duration": 0.068039,
     "end_time": "2021-01-31T08:28:38.703442",
     "exception": false,
     "start_time": "2021-01-31T08:28:38.635403",
     "status": "completed"
    },
    "tags": []
   },
   "source": [
    "## Sex"
   ]
  },
  {
   "cell_type": "code",
   "execution_count": 18,
   "metadata": {
    "execution": {
     "iopub.execute_input": "2021-01-31T08:28:38.844815Z",
     "iopub.status.busy": "2021-01-31T08:28:38.843759Z",
     "iopub.status.idle": "2021-01-31T08:28:39.030766Z",
     "shell.execute_reply": "2021-01-31T08:28:39.030031Z"
    },
    "papermill": {
     "duration": 0.259032,
     "end_time": "2021-01-31T08:28:39.030971",
     "exception": false,
     "start_time": "2021-01-31T08:28:38.771939",
     "status": "completed"
    },
    "tags": []
   },
   "outputs": [
    {
     "name": "stdout",
     "output_type": "stream",
     "text": [
      "Sex\n",
      "female    0.742038\n",
      "male      0.188908\n",
      "Name: Survived, dtype: float64\n"
     ]
    },
    {
     "data": {
      "image/png": "[encoded data removed]",
      "text/plain": [
       "<Figure size 432x288 with 1 Axes>"
      ]
     },
     "metadata": {
      "needs_background": "light"
     },
     "output_type": "display_data"
    }
   ],
   "source": [
    "sns.barplot(data = pd.DataFrame(train.groupby(['Sex','Survived'])['total_count'].count()).reset_index()\n",
    "            , x = 'Sex',y='total_count', hue = 'Survived');\n",
    "print(train.groupby(['Sex'])['Survived'].mean())"
   ]
  },
  {
   "cell_type": "markdown",
   "metadata": {
    "papermill": {
     "duration": 0.066394,
     "end_time": "2021-01-31T08:28:39.165199",
     "exception": false,
     "start_time": "2021-01-31T08:28:39.098805",
     "status": "completed"
    },
    "tags": []
   },
   "source": [
    "#### Chance of females' survival much more than males"
   ]
  },
  {
   "cell_type": "code",
   "execution_count": 19,
   "metadata": {
    "execution": {
     "iopub.execute_input": "2021-01-31T08:28:39.312403Z",
     "iopub.status.busy": "2021-01-31T08:28:39.311654Z",
     "iopub.status.idle": "2021-01-31T08:28:39.316055Z",
     "shell.execute_reply": "2021-01-31T08:28:39.315349Z"
    },
    "papermill": {
     "duration": 0.085774,
     "end_time": "2021-01-31T08:28:39.316213",
     "exception": false,
     "start_time": "2021-01-31T08:28:39.230439",
     "status": "completed"
    },
    "tags": []
   },
   "outputs": [],
   "source": [
    "### Encoding Sex column \n",
    "train['Sex'] = train['Sex'].replace({\"female\" : 1, \"male\" : 0})\n",
    "test['Sex'] = test['Sex'].replace({\"female\" : 1, \"male\" : 0})"
   ]
  },
  {
   "cell_type": "markdown",
   "metadata": {
    "papermill": {
     "duration": 0.067693,
     "end_time": "2021-01-31T08:28:39.449977",
     "exception": false,
     "start_time": "2021-01-31T08:28:39.382284",
     "status": "completed"
    },
    "tags": []
   },
   "source": [
    "## Age"
   ]
  },
  {
   "cell_type": "code",
   "execution_count": 20,
   "metadata": {
    "execution": {
     "iopub.execute_input": "2021-01-31T08:28:39.609772Z",
     "iopub.status.busy": "2021-01-31T08:28:39.605712Z",
     "iopub.status.idle": "2021-01-31T08:28:39.760873Z",
     "shell.execute_reply": "2021-01-31T08:28:39.760094Z"
    },
    "papermill": {
     "duration": 0.245802,
     "end_time": "2021-01-31T08:28:39.761052",
     "exception": false,
     "start_time": "2021-01-31T08:28:39.515250",
     "status": "completed"
    },
    "tags": []
   },
   "outputs": [
    {
     "data": {
      "text/plain": [
       "count    714.000000\n",
       "mean      29.699118\n",
       "std       14.526497\n",
       "min        0.420000\n",
       "25%       20.125000\n",
       "50%       28.000000\n",
       "75%       38.000000\n",
       "max       80.000000\n",
       "Name: Age, dtype: float64"
      ]
     },
     "execution_count": 20,
     "metadata": {},
     "output_type": "execute_result"
    },
    {
     "data": {
      "image/png": "[encoded data removed]",
      "text/plain": [
       "<Figure size 432x288 with 1 Axes>"
      ]
     },
     "metadata": {
      "needs_background": "light"
     },
     "output_type": "display_data"
    }
   ],
   "source": [
    "sns.boxplot(x=train.Survived,y=train.Age, showmeans=True);\n",
    "train.Age.describe()"
   ]
  },
  {
   "cell_type": "code",
   "execution_count": 21,
   "metadata": {
    "execution": {
     "iopub.execute_input": "2021-01-31T08:28:39.910954Z",
     "iopub.status.busy": "2021-01-31T08:28:39.909106Z",
     "iopub.status.idle": "2021-01-31T08:28:39.916785Z",
     "shell.execute_reply": "2021-01-31T08:28:39.917248Z"
    },
    "papermill": {
     "duration": 0.088792,
     "end_time": "2021-01-31T08:28:39.917445",
     "exception": false,
     "start_time": "2021-01-31T08:28:39.828653",
     "status": "completed"
    },
    "tags": []
   },
   "outputs": [
    {
     "name": "stdout",
     "output_type": "stream",
     "text": [
      "lower : -6.6875 upper : 64.8125\n",
      "Possible Number of Outliers For Age Column 11\n"
     ]
    }
   ],
   "source": [
    "Q1 = train['Age'].quantile(0.25) \n",
    "Q3 = train['Age'].quantile(0.75) \n",
    "IQR = Q3 - Q1 \n",
    "lower = Q1 - 1.5 * IQR\n",
    "upper = Q3 + 1.5 * IQR\n",
    "print('lower :',lower , 'upper :', upper)\n",
    "print('Possible Number of Outliers For Age Column'\n",
    "      ,train[(train['Age'] <lower) | (train['Age']  > upper)]['total_count'].sum())"
   ]
  },
  {
   "cell_type": "code",
   "execution_count": 22,
   "metadata": {
    "execution": {
     "iopub.execute_input": "2021-01-31T08:28:40.062436Z",
     "iopub.status.busy": "2021-01-31T08:28:40.061313Z",
     "iopub.status.idle": "2021-01-31T08:28:40.068107Z",
     "shell.execute_reply": "2021-01-31T08:28:40.067442Z"
    },
    "papermill": {
     "duration": 0.085046,
     "end_time": "2021-01-31T08:28:40.068284",
     "exception": false,
     "start_time": "2021-01-31T08:28:39.983238",
     "status": "completed"
    },
    "tags": []
   },
   "outputs": [
    {
     "data": {
      "text/plain": [
       "33     0\n",
       "54     0\n",
       "96     0\n",
       "116    0\n",
       "280    0\n",
       "456    0\n",
       "493    0\n",
       "630    1\n",
       "672    0\n",
       "745    0\n",
       "851    0\n",
       "Name: Survived, dtype: int64"
      ]
     },
     "execution_count": 22,
     "metadata": {},
     "output_type": "execute_result"
    }
   ],
   "source": [
    "train[train['Age']  > upper]['Survived']"
   ]
  },
  {
   "cell_type": "markdown",
   "metadata": {
    "papermill": {
     "duration": 0.070395,
     "end_time": "2021-01-31T08:28:40.204259",
     "exception": false,
     "start_time": "2021-01-31T08:28:40.133864",
     "status": "completed"
    },
    "tags": []
   },
   "source": [
    "#### Only 1 out of 11 passengers who is older than 65 is survived therefore we can simply exclude them"
   ]
  },
  {
   "cell_type": "code",
   "execution_count": 23,
   "metadata": {
    "execution": {
     "iopub.execute_input": "2021-01-31T08:28:40.366410Z",
     "iopub.status.busy": "2021-01-31T08:28:40.365370Z",
     "iopub.status.idle": "2021-01-31T08:28:40.368954Z",
     "shell.execute_reply": "2021-01-31T08:28:40.368111Z"
    },
    "papermill": {
     "duration": 0.090131,
     "end_time": "2021-01-31T08:28:40.369187",
     "exception": false,
     "start_time": "2021-01-31T08:28:40.279056",
     "status": "completed"
    },
    "tags": []
   },
   "outputs": [],
   "source": [
    "train = train[(train['Age']  < 65) | (train['Age'].isnull())]"
   ]
  },
  {
   "cell_type": "markdown",
   "metadata": {
    "papermill": {
     "duration": 0.085925,
     "end_time": "2021-01-31T08:28:40.533125",
     "exception": false,
     "start_time": "2021-01-31T08:28:40.447200",
     "status": "completed"
    },
    "tags": []
   },
   "source": [
    "#### Filling null Age values with median of Pclass and Sex columns"
   ]
  },
  {
   "cell_type": "code",
   "execution_count": 24,
   "metadata": {
    "execution": {
     "iopub.execute_input": "2021-01-31T08:28:40.696966Z",
     "iopub.status.busy": "2021-01-31T08:28:40.694836Z",
     "iopub.status.idle": "2021-01-31T08:28:40.702907Z",
     "shell.execute_reply": "2021-01-31T08:28:40.702117Z"
    },
    "papermill": {
     "duration": 0.096378,
     "end_time": "2021-01-31T08:28:40.703098",
     "exception": false,
     "start_time": "2021-01-31T08:28:40.606720",
     "status": "completed"
    },
    "tags": []
   },
   "outputs": [
    {
     "data": {
      "text/plain": [
       "Pclass  Sex\n",
       "1       0      39.0\n",
       "        1      35.0\n",
       "2       0      30.0\n",
       "        1      28.0\n",
       "3       0      25.0\n",
       "        1      21.5\n",
       "Name: Age, dtype: float64"
      ]
     },
     "execution_count": 24,
     "metadata": {},
     "output_type": "execute_result"
    }
   ],
   "source": [
    "train.groupby(['Pclass','Sex'])['Age'].median()"
   ]
  },
  {
   "cell_type": "code",
   "execution_count": 25,
   "metadata": {
    "execution": {
     "iopub.execute_input": "2021-01-31T08:28:40.853619Z",
     "iopub.status.busy": "2021-01-31T08:28:40.852921Z",
     "iopub.status.idle": "2021-01-31T08:28:40.873090Z",
     "shell.execute_reply": "2021-01-31T08:28:40.872405Z"
    },
    "papermill": {
     "duration": 0.095254,
     "end_time": "2021-01-31T08:28:40.873241",
     "exception": false,
     "start_time": "2021-01-31T08:28:40.777987",
     "status": "completed"
    },
    "tags": []
   },
   "outputs": [],
   "source": [
    "train['Age'] = np.where((train.Age.isnull())&(train.Pclass ==1)&(train.Sex ==0),39.0\n",
    "                       ,np.where((train.Age.isnull())&(train.Pclass ==1)&(train.Sex ==1),35.0\n",
    "                                ,np.where((train.Age.isnull())&(train.Pclass ==2)&(train.Sex ==0),30.0\n",
    "                                         ,np.where((train.Age.isnull())&(train.Pclass ==2)&(train.Sex ==1),28.0\n",
    "                                                  ,np.where((train.Age.isnull())&(train.Pclass ==3)&(train.Sex ==0),25.0\n",
    "                                                            ,np.where((train.Age.isnull())&(train.Pclass ==3)&(train.Sex ==1)\n",
    "                                                                      ,21.5,train.Age))))))"
   ]
  },
  {
   "cell_type": "code",
   "execution_count": 26,
   "metadata": {
    "execution": {
     "iopub.execute_input": "2021-01-31T08:28:41.027090Z",
     "iopub.status.busy": "2021-01-31T08:28:41.026353Z",
     "iopub.status.idle": "2021-01-31T08:28:41.035990Z",
     "shell.execute_reply": "2021-01-31T08:28:41.036653Z"
    },
    "papermill": {
     "duration": 0.092571,
     "end_time": "2021-01-31T08:28:41.036878",
     "exception": false,
     "start_time": "2021-01-31T08:28:40.944307",
     "status": "completed"
    },
    "tags": []
   },
   "outputs": [
    {
     "data": {
      "text/plain": [
       "Pclass  Sex\n",
       "1       0      42.0\n",
       "        1      41.0\n",
       "2       0      28.0\n",
       "        1      24.0\n",
       "3       0      24.0\n",
       "        1      22.0\n",
       "Name: Age, dtype: float64"
      ]
     },
     "execution_count": 26,
     "metadata": {},
     "output_type": "execute_result"
    }
   ],
   "source": [
    "test.groupby(['Pclass','Sex'])['Age'].median()"
   ]
  },
  {
   "cell_type": "code",
   "execution_count": 27,
   "metadata": {
    "execution": {
     "iopub.execute_input": "2021-01-31T08:28:41.181159Z",
     "iopub.status.busy": "2021-01-31T08:28:41.180461Z",
     "iopub.status.idle": "2021-01-31T08:28:41.196909Z",
     "shell.execute_reply": "2021-01-31T08:28:41.196084Z"
    },
    "papermill": {
     "duration": 0.087754,
     "end_time": "2021-01-31T08:28:41.197081",
     "exception": false,
     "start_time": "2021-01-31T08:28:41.109327",
     "status": "completed"
    },
    "tags": []
   },
   "outputs": [],
   "source": [
    "test['Age'] = np.where((test.Age.isnull())&(test.Pclass ==1)&(test.Sex ==0),42.0\n",
    "                       ,np.where((test.Age.isnull())&(test.Pclass ==1)&(test.Sex ==1),41.0\n",
    "                                ,np.where((test.Age.isnull())&(test.Pclass ==2)&(test.Sex ==0),28.0\n",
    "                                         ,np.where((test.Age.isnull())&(test.Pclass ==2)&(test.Sex ==1),24.0\n",
    "                                                  ,np.where((test.Age.isnull())&(test.Pclass ==3)&(test.Sex ==0),24.0\n",
    "                                                            ,np.where((test.Age.isnull())&(test.Pclass ==3)&(test.Sex ==1)\n",
    "                                                                      ,22.0,test.Age))))))"
   ]
  },
  {
   "cell_type": "markdown",
   "metadata": {
    "papermill": {
     "duration": 0.069592,
     "end_time": "2021-01-31T08:28:41.335857",
     "exception": false,
     "start_time": "2021-01-31T08:28:41.266265",
     "status": "completed"
    },
    "tags": []
   },
   "source": [
    "#### Creating a Age group with 10 bins which founded to be highest correlated from 1 to 15"
   ]
  },
  {
   "cell_type": "code",
   "execution_count": 28,
   "metadata": {
    "execution": {
     "iopub.execute_input": "2021-01-31T08:28:41.487269Z",
     "iopub.status.busy": "2021-01-31T08:28:41.484385Z",
     "iopub.status.idle": "2021-01-31T08:28:41.504427Z",
     "shell.execute_reply": "2021-01-31T08:28:41.503782Z"
    },
    "papermill": {
     "duration": 0.09831,
     "end_time": "2021-01-31T08:28:41.504615",
     "exception": false,
     "start_time": "2021-01-31T08:28:41.406305",
     "status": "completed"
    },
    "tags": []
   },
   "outputs": [
    {
     "data": {
      "text/html": [
       "<div>\n",
       "<style scoped>\n",
       "    .dataframe tbody tr th:only-of-type {\n",
       "        vertical-align: middle;\n",
       "    }\n",
       "\n",
       "    .dataframe tbody tr th {\n",
       "        vertical-align: top;\n",
       "    }\n",
       "\n",
       "    .dataframe thead th {\n",
       "        text-align: right;\n",
       "    }\n",
       "</style>\n",
       "<table border=\"1\" class=\"dataframe\">\n",
       "  <thead>\n",
       "    <tr style=\"text-align: right;\">\n",
       "      <th></th>\n",
       "      <th>Age_group</th>\n",
       "      <th>Survived</th>\n",
       "    </tr>\n",
       "  </thead>\n",
       "  <tbody>\n",
       "    <tr>\n",
       "      <th>Age_group</th>\n",
       "      <td>1.000000</td>\n",
       "      <td>0.001276</td>\n",
       "    </tr>\n",
       "    <tr>\n",
       "      <th>Survived</th>\n",
       "      <td>0.001276</td>\n",
       "      <td>1.000000</td>\n",
       "    </tr>\n",
       "  </tbody>\n",
       "</table>\n",
       "</div>"
      ],
      "text/plain": [
       "           Age_group  Survived\n",
       "Age_group   1.000000  0.001276\n",
       "Survived    0.001276  1.000000"
      ]
     },
     "execution_count": 28,
     "metadata": {},
     "output_type": "execute_result"
    }
   ],
   "source": [
    "label_list = list(range(1,11))\n",
    "train['Age_group'] = pd.qcut(train['Age'], 10,labels = label_list)\n",
    "test['Age_group'] = pd.qcut(test['Age'], 10,labels = label_list)\n",
    "train['Age_group'] = train['Age_group'].astype('int')\n",
    "test['Age_group'] = test['Age_group'].astype('int')\n",
    "train[['Age_group','Survived']].corr()"
   ]
  },
  {
   "cell_type": "markdown",
   "metadata": {
    "papermill": {
     "duration": 0.069215,
     "end_time": "2021-01-31T08:28:41.644011",
     "exception": false,
     "start_time": "2021-01-31T08:28:41.574796",
     "status": "completed"
    },
    "tags": []
   },
   "source": [
    "## SibSp"
   ]
  },
  {
   "cell_type": "code",
   "execution_count": 29,
   "metadata": {
    "execution": {
     "iopub.execute_input": "2021-01-31T08:28:41.789654Z",
     "iopub.status.busy": "2021-01-31T08:28:41.788967Z",
     "iopub.status.idle": "2021-01-31T08:28:41.825383Z",
     "shell.execute_reply": "2021-01-31T08:28:41.824868Z"
    },
    "papermill": {
     "duration": 0.112454,
     "end_time": "2021-01-31T08:28:41.825552",
     "exception": false,
     "start_time": "2021-01-31T08:28:41.713098",
     "status": "completed"
    },
    "tags": []
   },
   "outputs": [
    {
     "data": {
      "text/html": [
       "<div>\n",
       "<style scoped>\n",
       "    .dataframe tbody tr th:only-of-type {\n",
       "        vertical-align: middle;\n",
       "    }\n",
       "\n",
       "    .dataframe tbody tr th {\n",
       "        vertical-align: top;\n",
       "    }\n",
       "\n",
       "    .dataframe thead th {\n",
       "        text-align: right;\n",
       "    }\n",
       "</style>\n",
       "<table border=\"1\" class=\"dataframe\">\n",
       "  <thead>\n",
       "    <tr style=\"text-align: right;\">\n",
       "      <th></th>\n",
       "      <th>count</th>\n",
       "      <th>mean</th>\n",
       "      <th>std</th>\n",
       "      <th>min</th>\n",
       "      <th>25%</th>\n",
       "      <th>50%</th>\n",
       "      <th>75%</th>\n",
       "      <th>max</th>\n",
       "    </tr>\n",
       "    <tr>\n",
       "      <th>SibSp</th>\n",
       "      <th></th>\n",
       "      <th></th>\n",
       "      <th></th>\n",
       "      <th></th>\n",
       "      <th></th>\n",
       "      <th></th>\n",
       "      <th></th>\n",
       "      <th></th>\n",
       "    </tr>\n",
       "  </thead>\n",
       "  <tbody>\n",
       "    <tr>\n",
       "      <th>0</th>\n",
       "      <td>598.0</td>\n",
       "      <td>0.349498</td>\n",
       "      <td>0.477211</td>\n",
       "      <td>0.0</td>\n",
       "      <td>0.0</td>\n",
       "      <td>0.0</td>\n",
       "      <td>1.00</td>\n",
       "      <td>1.0</td>\n",
       "    </tr>\n",
       "    <tr>\n",
       "      <th>1</th>\n",
       "      <td>208.0</td>\n",
       "      <td>0.538462</td>\n",
       "      <td>0.499721</td>\n",
       "      <td>0.0</td>\n",
       "      <td>0.0</td>\n",
       "      <td>1.0</td>\n",
       "      <td>1.00</td>\n",
       "      <td>1.0</td>\n",
       "    </tr>\n",
       "    <tr>\n",
       "      <th>2</th>\n",
       "      <td>28.0</td>\n",
       "      <td>0.464286</td>\n",
       "      <td>0.507875</td>\n",
       "      <td>0.0</td>\n",
       "      <td>0.0</td>\n",
       "      <td>0.0</td>\n",
       "      <td>1.00</td>\n",
       "      <td>1.0</td>\n",
       "    </tr>\n",
       "    <tr>\n",
       "      <th>3</th>\n",
       "      <td>16.0</td>\n",
       "      <td>0.250000</td>\n",
       "      <td>0.447214</td>\n",
       "      <td>0.0</td>\n",
       "      <td>0.0</td>\n",
       "      <td>0.0</td>\n",
       "      <td>0.25</td>\n",
       "      <td>1.0</td>\n",
       "    </tr>\n",
       "    <tr>\n",
       "      <th>4</th>\n",
       "      <td>18.0</td>\n",
       "      <td>0.166667</td>\n",
       "      <td>0.383482</td>\n",
       "      <td>0.0</td>\n",
       "      <td>0.0</td>\n",
       "      <td>0.0</td>\n",
       "      <td>0.00</td>\n",
       "      <td>1.0</td>\n",
       "    </tr>\n",
       "    <tr>\n",
       "      <th>5</th>\n",
       "      <td>5.0</td>\n",
       "      <td>0.000000</td>\n",
       "      <td>0.000000</td>\n",
       "      <td>0.0</td>\n",
       "      <td>0.0</td>\n",
       "      <td>0.0</td>\n",
       "      <td>0.00</td>\n",
       "      <td>0.0</td>\n",
       "    </tr>\n",
       "    <tr>\n",
       "      <th>8</th>\n",
       "      <td>7.0</td>\n",
       "      <td>0.000000</td>\n",
       "      <td>0.000000</td>\n",
       "      <td>0.0</td>\n",
       "      <td>0.0</td>\n",
       "      <td>0.0</td>\n",
       "      <td>0.00</td>\n",
       "      <td>0.0</td>\n",
       "    </tr>\n",
       "  </tbody>\n",
       "</table>\n",
       "</div>"
      ],
      "text/plain": [
       "       count      mean       std  min  25%  50%   75%  max\n",
       "SibSp                                                     \n",
       "0      598.0  0.349498  0.477211  0.0  0.0  0.0  1.00  1.0\n",
       "1      208.0  0.538462  0.499721  0.0  0.0  1.0  1.00  1.0\n",
       "2       28.0  0.464286  0.507875  0.0  0.0  0.0  1.00  1.0\n",
       "3       16.0  0.250000  0.447214  0.0  0.0  0.0  0.25  1.0\n",
       "4       18.0  0.166667  0.383482  0.0  0.0  0.0  0.00  1.0\n",
       "5        5.0  0.000000  0.000000  0.0  0.0  0.0  0.00  0.0\n",
       "8        7.0  0.000000  0.000000  0.0  0.0  0.0  0.00  0.0"
      ]
     },
     "execution_count": 29,
     "metadata": {},
     "output_type": "execute_result"
    }
   ],
   "source": [
    "train.groupby('SibSp')['Survived'].describe()"
   ]
  },
  {
   "cell_type": "code",
   "execution_count": 30,
   "metadata": {
    "execution": {
     "iopub.execute_input": "2021-01-31T08:28:41.976581Z",
     "iopub.status.busy": "2021-01-31T08:28:41.975603Z",
     "iopub.status.idle": "2021-01-31T08:28:41.978850Z",
     "shell.execute_reply": "2021-01-31T08:28:41.978187Z"
    },
    "papermill": {
     "duration": 0.083596,
     "end_time": "2021-01-31T08:28:41.979001",
     "exception": false,
     "start_time": "2021-01-31T08:28:41.895405",
     "status": "completed"
    },
    "tags": []
   },
   "outputs": [],
   "source": [
    "### Havin less SibSp increases the chance of survival, we can group them into 3 \n",
    "### Having SipSp less then 3, having 3 or 4, and more then 4\n",
    "train['SibSp_group'] = np.where(train.SibSp < 3,3, np.where(train.SibSp < 5,2,1))\n",
    "test['SibSp_group'] = np.where(test.SibSp < 3,3, np.where(test.SibSp < 5,2,1))"
   ]
  },
  {
   "cell_type": "code",
   "execution_count": 31,
   "metadata": {
    "execution": {
     "iopub.execute_input": "2021-01-31T08:28:42.134981Z",
     "iopub.status.busy": "2021-01-31T08:28:42.133930Z",
     "iopub.status.idle": "2021-01-31T08:28:42.360140Z",
     "shell.execute_reply": "2021-01-31T08:28:42.359477Z"
    },
    "papermill": {
     "duration": 0.308371,
     "end_time": "2021-01-31T08:28:42.360286",
     "exception": false,
     "start_time": "2021-01-31T08:28:42.051915",
     "status": "completed"
    },
    "tags": []
   },
   "outputs": [
    {
     "name": "stdout",
     "output_type": "stream",
     "text": [
      "SibSp_group\n",
      "1    0.000000\n",
      "2    0.205882\n",
      "3    0.400480\n",
      "Name: Survived, dtype: float64\n"
     ]
    },
    {
     "data": {
      "image/png": "[encoded data removed]",
      "text/plain": [
       "<Figure size 432x288 with 1 Axes>"
      ]
     },
     "metadata": {
      "needs_background": "light"
     },
     "output_type": "display_data"
    }
   ],
   "source": [
    "sns.barplot(data = pd.DataFrame(train.groupby(['SibSp_group','Survived'])['total_count'].count()).reset_index()\n",
    "            , x = 'SibSp_group',y='total_count', hue = 'Survived');\n",
    "print(train.groupby(['SibSp_group'])['Survived'].mean())"
   ]
  },
  {
   "cell_type": "markdown",
   "metadata": {
    "papermill": {
     "duration": 0.075152,
     "end_time": "2021-01-31T08:28:42.509715",
     "exception": false,
     "start_time": "2021-01-31T08:28:42.434563",
     "status": "completed"
    },
    "tags": []
   },
   "source": [
    "## Parch"
   ]
  },
  {
   "cell_type": "markdown",
   "metadata": {
    "papermill": {
     "duration": 0.072943,
     "end_time": "2021-01-31T08:28:42.656770",
     "exception": false,
     "start_time": "2021-01-31T08:28:42.583827",
     "status": "completed"
    },
    "tags": []
   },
   "source": [
    "#### Most of the passengers seems to have less than 2 as Parch value, therefore we can group the rest into one"
   ]
  },
  {
   "cell_type": "code",
   "execution_count": 32,
   "metadata": {
    "execution": {
     "iopub.execute_input": "2021-01-31T08:28:42.813146Z",
     "iopub.status.busy": "2021-01-31T08:28:42.810898Z",
     "iopub.status.idle": "2021-01-31T08:28:42.851426Z",
     "shell.execute_reply": "2021-01-31T08:28:42.850871Z"
    },
    "papermill": {
     "duration": 0.122765,
     "end_time": "2021-01-31T08:28:42.851600",
     "exception": false,
     "start_time": "2021-01-31T08:28:42.728835",
     "status": "completed"
    },
    "tags": []
   },
   "outputs": [
    {
     "data": {
      "text/html": [
       "<div>\n",
       "<style scoped>\n",
       "    .dataframe tbody tr th:only-of-type {\n",
       "        vertical-align: middle;\n",
       "    }\n",
       "\n",
       "    .dataframe tbody tr th {\n",
       "        vertical-align: top;\n",
       "    }\n",
       "\n",
       "    .dataframe thead th {\n",
       "        text-align: right;\n",
       "    }\n",
       "</style>\n",
       "<table border=\"1\" class=\"dataframe\">\n",
       "  <thead>\n",
       "    <tr style=\"text-align: right;\">\n",
       "      <th></th>\n",
       "      <th>count</th>\n",
       "      <th>mean</th>\n",
       "      <th>std</th>\n",
       "      <th>min</th>\n",
       "      <th>25%</th>\n",
       "      <th>50%</th>\n",
       "      <th>75%</th>\n",
       "      <th>max</th>\n",
       "    </tr>\n",
       "    <tr>\n",
       "      <th>Parch</th>\n",
       "      <th></th>\n",
       "      <th></th>\n",
       "      <th></th>\n",
       "      <th></th>\n",
       "      <th></th>\n",
       "      <th></th>\n",
       "      <th></th>\n",
       "      <th></th>\n",
       "    </tr>\n",
       "  </thead>\n",
       "  <tbody>\n",
       "    <tr>\n",
       "      <th>0</th>\n",
       "      <td>669.0</td>\n",
       "      <td>0.346786</td>\n",
       "      <td>0.476303</td>\n",
       "      <td>0.0</td>\n",
       "      <td>0.0</td>\n",
       "      <td>0.0</td>\n",
       "      <td>1.0</td>\n",
       "      <td>1.0</td>\n",
       "    </tr>\n",
       "    <tr>\n",
       "      <th>1</th>\n",
       "      <td>116.0</td>\n",
       "      <td>0.560345</td>\n",
       "      <td>0.498498</td>\n",
       "      <td>0.0</td>\n",
       "      <td>0.0</td>\n",
       "      <td>1.0</td>\n",
       "      <td>1.0</td>\n",
       "      <td>1.0</td>\n",
       "    </tr>\n",
       "    <tr>\n",
       "      <th>2</th>\n",
       "      <td>80.0</td>\n",
       "      <td>0.500000</td>\n",
       "      <td>0.503155</td>\n",
       "      <td>0.0</td>\n",
       "      <td>0.0</td>\n",
       "      <td>0.5</td>\n",
       "      <td>1.0</td>\n",
       "      <td>1.0</td>\n",
       "    </tr>\n",
       "    <tr>\n",
       "      <th>3</th>\n",
       "      <td>5.0</td>\n",
       "      <td>0.600000</td>\n",
       "      <td>0.547723</td>\n",
       "      <td>0.0</td>\n",
       "      <td>0.0</td>\n",
       "      <td>1.0</td>\n",
       "      <td>1.0</td>\n",
       "      <td>1.0</td>\n",
       "    </tr>\n",
       "    <tr>\n",
       "      <th>4</th>\n",
       "      <td>4.0</td>\n",
       "      <td>0.000000</td>\n",
       "      <td>0.000000</td>\n",
       "      <td>0.0</td>\n",
       "      <td>0.0</td>\n",
       "      <td>0.0</td>\n",
       "      <td>0.0</td>\n",
       "      <td>0.0</td>\n",
       "    </tr>\n",
       "    <tr>\n",
       "      <th>5</th>\n",
       "      <td>5.0</td>\n",
       "      <td>0.200000</td>\n",
       "      <td>0.447214</td>\n",
       "      <td>0.0</td>\n",
       "      <td>0.0</td>\n",
       "      <td>0.0</td>\n",
       "      <td>0.0</td>\n",
       "      <td>1.0</td>\n",
       "    </tr>\n",
       "    <tr>\n",
       "      <th>6</th>\n",
       "      <td>1.0</td>\n",
       "      <td>0.000000</td>\n",
       "      <td>NaN</td>\n",
       "      <td>0.0</td>\n",
       "      <td>0.0</td>\n",
       "      <td>0.0</td>\n",
       "      <td>0.0</td>\n",
       "      <td>0.0</td>\n",
       "    </tr>\n",
       "  </tbody>\n",
       "</table>\n",
       "</div>"
      ],
      "text/plain": [
       "       count      mean       std  min  25%  50%  75%  max\n",
       "Parch                                                    \n",
       "0      669.0  0.346786  0.476303  0.0  0.0  0.0  1.0  1.0\n",
       "1      116.0  0.560345  0.498498  0.0  0.0  1.0  1.0  1.0\n",
       "2       80.0  0.500000  0.503155  0.0  0.0  0.5  1.0  1.0\n",
       "3        5.0  0.600000  0.547723  0.0  0.0  1.0  1.0  1.0\n",
       "4        4.0  0.000000  0.000000  0.0  0.0  0.0  0.0  0.0\n",
       "5        5.0  0.200000  0.447214  0.0  0.0  0.0  0.0  1.0\n",
       "6        1.0  0.000000       NaN  0.0  0.0  0.0  0.0  0.0"
      ]
     },
     "execution_count": 32,
     "metadata": {},
     "output_type": "execute_result"
    }
   ],
   "source": [
    "train.groupby('Parch')['Survived'].describe()"
   ]
  },
  {
   "cell_type": "code",
   "execution_count": 33,
   "metadata": {
    "execution": {
     "iopub.execute_input": "2021-01-31T08:28:43.004209Z",
     "iopub.status.busy": "2021-01-31T08:28:43.003179Z",
     "iopub.status.idle": "2021-01-31T08:28:43.008054Z",
     "shell.execute_reply": "2021-01-31T08:28:43.007375Z"
    },
    "papermill": {
     "duration": 0.083044,
     "end_time": "2021-01-31T08:28:43.008196",
     "exception": false,
     "start_time": "2021-01-31T08:28:42.925152",
     "status": "completed"
    },
    "tags": []
   },
   "outputs": [],
   "source": [
    "train['Parch'] = np.where(train.Parch > 2,3,train.Parch)\n",
    "test['Parch'] = np.where(test.Parch > 2,3,test.Parch)"
   ]
  },
  {
   "cell_type": "markdown",
   "metadata": {
    "papermill": {
     "duration": 0.070182,
     "end_time": "2021-01-31T08:28:43.151997",
     "exception": false,
     "start_time": "2021-01-31T08:28:43.081815",
     "status": "completed"
    },
    "tags": []
   },
   "source": [
    "### Combining parent numbers with sibling numbers, family size on board can be create"
   ]
  },
  {
   "cell_type": "code",
   "execution_count": 34,
   "metadata": {
    "execution": {
     "iopub.execute_input": "2021-01-31T08:28:43.303135Z",
     "iopub.status.busy": "2021-01-31T08:28:43.302429Z",
     "iopub.status.idle": "2021-01-31T08:28:43.305400Z",
     "shell.execute_reply": "2021-01-31T08:28:43.304858Z"
    },
    "papermill": {
     "duration": 0.082531,
     "end_time": "2021-01-31T08:28:43.305559",
     "exception": false,
     "start_time": "2021-01-31T08:28:43.223028",
     "status": "completed"
    },
    "tags": []
   },
   "outputs": [],
   "source": [
    "train['FamilySize'] = train['SibSp'] + train['Parch'] + 1\n",
    "test['FamilySize'] = test['SibSp'] + test['Parch'] + 1"
   ]
  },
  {
   "cell_type": "code",
   "execution_count": 35,
   "metadata": {
    "execution": {
     "iopub.execute_input": "2021-01-31T08:28:43.456796Z",
     "iopub.status.busy": "2021-01-31T08:28:43.456073Z",
     "iopub.status.idle": "2021-01-31T08:28:43.824051Z",
     "shell.execute_reply": "2021-01-31T08:28:43.823451Z"
    },
    "papermill": {
     "duration": 0.448084,
     "end_time": "2021-01-31T08:28:43.824195",
     "exception": false,
     "start_time": "2021-01-31T08:28:43.376111",
     "status": "completed"
    },
    "tags": []
   },
   "outputs": [
    {
     "name": "stdout",
     "output_type": "stream",
     "text": [
      "FamilySize\n",
      "1     0.306818\n",
      "2     0.556250\n",
      "3     0.584158\n",
      "4     0.656250\n",
      "5     0.190476\n",
      "6     0.176471\n",
      "7     0.333333\n",
      "8     0.000000\n",
      "11    0.000000\n",
      "Name: Survived, dtype: float64\n"
     ]
    },
    {
     "data": {
      "image/png": "[encoded data removed]",
      "text/plain": [
       "<Figure size 432x288 with 1 Axes>"
      ]
     },
     "metadata": {
      "needs_background": "light"
     },
     "output_type": "display_data"
    }
   ],
   "source": [
    "sns.barplot(data = pd.DataFrame(train.groupby(['FamilySize','Survived'])['total_count'].count()).reset_index()\n",
    "            , x = 'FamilySize',y='total_count', hue = 'Survived');\n",
    "print(train.groupby(['FamilySize'])['Survived'].mean())"
   ]
  },
  {
   "cell_type": "code",
   "execution_count": 36,
   "metadata": {
    "execution": {
     "iopub.execute_input": "2021-01-31T08:28:43.983822Z",
     "iopub.status.busy": "2021-01-31T08:28:43.983084Z",
     "iopub.status.idle": "2021-01-31T08:28:43.986828Z",
     "shell.execute_reply": "2021-01-31T08:28:43.986125Z"
    },
    "papermill": {
     "duration": 0.089901,
     "end_time": "2021-01-31T08:28:43.986985",
     "exception": false,
     "start_time": "2021-01-31T08:28:43.897084",
     "status": "completed"
    },
    "tags": []
   },
   "outputs": [],
   "source": [
    "train['FamilySize'] = np.where(train.FamilySize == 1,1\n",
    "                               ,np.where(train.FamilySize <5, 2\n",
    "                                         ,np.where(train.FamilySize<7,3\n",
    "                                                   ,np.where(train.FamilySize == 7,4,5))))\n",
    "\n",
    "\n",
    "test['FamilySize'] = np.where(test.FamilySize == 1,1\n",
    "                               ,np.where(test.FamilySize <5, 2\n",
    "                                         ,np.where(test.FamilySize<7,3\n",
    "                                                   ,np.where(test.FamilySize == 7,4,5))))"
   ]
  },
  {
   "cell_type": "code",
   "execution_count": 37,
   "metadata": {
    "execution": {
     "iopub.execute_input": "2021-01-31T08:28:44.143874Z",
     "iopub.status.busy": "2021-01-31T08:28:44.143195Z",
     "iopub.status.idle": "2021-01-31T08:28:44.407522Z",
     "shell.execute_reply": "2021-01-31T08:28:44.406824Z"
    },
    "papermill": {
     "duration": 0.347025,
     "end_time": "2021-01-31T08:28:44.407714",
     "exception": false,
     "start_time": "2021-01-31T08:28:44.060689",
     "status": "completed"
    },
    "tags": []
   },
   "outputs": [
    {
     "name": "stdout",
     "output_type": "stream",
     "text": [
      "FamilySize\n",
      "1    0.306818\n",
      "2    0.576792\n",
      "3    0.184211\n",
      "4    0.333333\n",
      "5    0.000000\n",
      "Name: Survived, dtype: float64\n"
     ]
    },
    {
     "data": {
      "image/png": "[encoded data removed]",
      "text/plain": [
       "<Figure size 432x288 with 1 Axes>"
      ]
     },
     "metadata": {
      "needs_background": "light"
     },
     "output_type": "display_data"
    }
   ],
   "source": [
    "sns.barplot(data = pd.DataFrame(train.groupby(['FamilySize','Survived'])['total_count'].count()).reset_index()\n",
    "            , x = 'FamilySize',y='total_count', hue = 'Survived');\n",
    "print(train.groupby(['FamilySize'])['Survived'].mean())"
   ]
  },
  {
   "cell_type": "markdown",
   "metadata": {
    "papermill": {
     "duration": 0.07706,
     "end_time": "2021-01-31T08:28:44.559144",
     "exception": false,
     "start_time": "2021-01-31T08:28:44.482084",
     "status": "completed"
    },
    "tags": []
   },
   "source": [
    "## Ticket"
   ]
  },
  {
   "cell_type": "markdown",
   "metadata": {
    "papermill": {
     "duration": 0.071655,
     "end_time": "2021-01-31T08:28:44.703166",
     "exception": false,
     "start_time": "2021-01-31T08:28:44.631511",
     "status": "completed"
    },
    "tags": []
   },
   "source": [
    "### Lets add each Ticket len value, that might indicate possitision or class "
   ]
  },
  {
   "cell_type": "code",
   "execution_count": 38,
   "metadata": {
    "execution": {
     "iopub.execute_input": "2021-01-31T08:28:44.863829Z",
     "iopub.status.busy": "2021-01-31T08:28:44.863137Z",
     "iopub.status.idle": "2021-01-31T08:28:44.867067Z",
     "shell.execute_reply": "2021-01-31T08:28:44.866506Z"
    },
    "papermill": {
     "duration": 0.088145,
     "end_time": "2021-01-31T08:28:44.867212",
     "exception": false,
     "start_time": "2021-01-31T08:28:44.779067",
     "status": "completed"
    },
    "tags": []
   },
   "outputs": [],
   "source": [
    "ticket_lens = []\n",
    "for i in train['Ticket']:\n",
    "    ticket_len = len(i)\n",
    "    ticket_lens.append(ticket_len)\n",
    "train['Ticket_len'] = ticket_lens\n",
    "\n",
    "\n",
    "ticket_lens = []\n",
    "for i in test['Ticket']:\n",
    "    ticket_len = len(i)\n",
    "    ticket_lens.append(ticket_len)\n",
    "test['Ticket_len'] = ticket_lens"
   ]
  },
  {
   "cell_type": "code",
   "execution_count": 39,
   "metadata": {
    "execution": {
     "iopub.execute_input": "2021-01-31T08:28:45.029351Z",
     "iopub.status.busy": "2021-01-31T08:28:45.028639Z",
     "iopub.status.idle": "2021-01-31T08:28:45.035595Z",
     "shell.execute_reply": "2021-01-31T08:28:45.036095Z"
    },
    "papermill": {
     "duration": 0.090368,
     "end_time": "2021-01-31T08:28:45.036308",
     "exception": false,
     "start_time": "2021-01-31T08:28:44.945940",
     "status": "completed"
    },
    "tags": []
   },
   "outputs": [
    {
     "data": {
      "text/plain": [
       "Ticket_len\n",
       "3       2\n",
       "4      47\n",
       "5      62\n",
       "6     183\n",
       "7       9\n",
       "8      42\n",
       "9      11\n",
       "10     22\n",
       "11     10\n",
       "12      6\n",
       "13      9\n",
       "15      3\n",
       "16      2\n",
       "17      2\n",
       "18      8\n",
       "Name: PassengerId, dtype: int64"
      ]
     },
     "execution_count": 39,
     "metadata": {},
     "output_type": "execute_result"
    }
   ],
   "source": [
    "test.groupby('Ticket_len')['PassengerId'].count()"
   ]
  },
  {
   "cell_type": "code",
   "execution_count": 40,
   "metadata": {
    "execution": {
     "iopub.execute_input": "2021-01-31T08:28:45.202874Z",
     "iopub.status.busy": "2021-01-31T08:28:45.199447Z",
     "iopub.status.idle": "2021-01-31T08:28:45.664398Z",
     "shell.execute_reply": "2021-01-31T08:28:45.663686Z"
    },
    "papermill": {
     "duration": 0.552129,
     "end_time": "2021-01-31T08:28:45.664573",
     "exception": false,
     "start_time": "2021-01-31T08:28:45.112444",
     "status": "completed"
    },
    "tags": []
   },
   "outputs": [
    {
     "name": "stdout",
     "output_type": "stream",
     "text": [
      "                mean  count\n",
      "Ticket_len                 \n",
      "3           0.000000      2\n",
      "4           0.366337    101\n",
      "5           0.620155    129\n",
      "6           0.322892    415\n",
      "7           0.296296     27\n",
      "8           0.554054     74\n",
      "9           0.200000     25\n",
      "10          0.358974     39\n",
      "11          0.250000      8\n",
      "12          0.400000     10\n",
      "13          0.400000     10\n",
      "15          0.333333      9\n",
      "16          0.272727     11\n",
      "17          0.428571     14\n",
      "18          0.000000      6\n"
     ]
    },
    {
     "data": {
      "image/png": "[encoded data removed]",
      "text/plain": [
       "<Figure size 432x288 with 1 Axes>"
      ]
     },
     "metadata": {
      "needs_background": "light"
     },
     "output_type": "display_data"
    }
   ],
   "source": [
    "sns.barplot(data = pd.DataFrame(train.groupby(['Ticket_len','Survived'])['total_count'].count()).reset_index()\n",
    "            , x = 'Ticket_len',y='total_count', hue = 'Survived');\n",
    "print(train.groupby(['Ticket_len'])['Survived'].agg(['mean','count']))"
   ]
  },
  {
   "cell_type": "code",
   "execution_count": 41,
   "metadata": {
    "execution": {
     "iopub.execute_input": "2021-01-31T08:28:45.833802Z",
     "iopub.status.busy": "2021-01-31T08:28:45.832989Z",
     "iopub.status.idle": "2021-01-31T08:28:45.849013Z",
     "shell.execute_reply": "2021-01-31T08:28:45.847966Z"
    },
    "papermill": {
     "duration": 0.109591,
     "end_time": "2021-01-31T08:28:45.849185",
     "exception": false,
     "start_time": "2021-01-31T08:28:45.739594",
     "status": "completed"
    },
    "tags": []
   },
   "outputs": [],
   "source": [
    "## Lets group them into 3 with having similar behaviors\n",
    "train['Ticket_len'] = np.where((train['Ticket_len'] == 5) | (train['Ticket_len'] == 8),3\n",
    "                              ,np.where((train['Ticket_len'] == 4) | (train['Ticket_len'] == 6)| (train['Ticket_len'] == 10),2,1)) \n",
    "\n",
    "test['Ticket_len'] = np.where((test['Ticket_len'] == 5) | (test['Ticket_len'] == 8),1\n",
    "                              ,np.where((test['Ticket_len'] == 4) | (test['Ticket_len'] == 6)| (test['Ticket_len'] == 10),2,1))"
   ]
  },
  {
   "cell_type": "code",
   "execution_count": 42,
   "metadata": {
    "execution": {
     "iopub.execute_input": "2021-01-31T08:28:46.040048Z",
     "iopub.status.busy": "2021-01-31T08:28:46.039287Z",
     "iopub.status.idle": "2021-01-31T08:28:46.396571Z",
     "shell.execute_reply": "2021-01-31T08:28:46.395865Z"
    },
    "papermill": {
     "duration": 0.443685,
     "end_time": "2021-01-31T08:28:46.396720",
     "exception": false,
     "start_time": "2021-01-31T08:28:45.953035",
     "status": "completed"
    },
    "tags": []
   },
   "outputs": [
    {
     "name": "stdout",
     "output_type": "stream",
     "text": [
      "                mean  count\n",
      "Ticket_len                 \n",
      "1           0.286885    122\n",
      "2           0.333333    555\n",
      "3           0.596059    203\n"
     ]
    },
    {
     "data": {
      "image/png": "[encoded data removed]",
      "text/plain": [
       "<Figure size 432x288 with 1 Axes>"
      ]
     },
     "metadata": {
      "needs_background": "light"
     },
     "output_type": "display_data"
    }
   ],
   "source": [
    "sns.barplot(data = pd.DataFrame(train.groupby(['Ticket_len','Survived'])['total_count'].count()).reset_index()\n",
    "            , x = 'Ticket_len',y='total_count', hue = 'Survived');\n",
    "print(train.groupby(['Ticket_len'])['Survived'].agg(['mean','count']))"
   ]
  },
  {
   "cell_type": "code",
   "execution_count": 43,
   "metadata": {
    "execution": {
     "iopub.execute_input": "2021-01-31T08:28:46.565252Z",
     "iopub.status.busy": "2021-01-31T08:28:46.559862Z",
     "iopub.status.idle": "2021-01-31T08:28:46.570617Z",
     "shell.execute_reply": "2021-01-31T08:28:46.569757Z"
    },
    "papermill": {
     "duration": 0.095883,
     "end_time": "2021-01-31T08:28:46.570785",
     "exception": false,
     "start_time": "2021-01-31T08:28:46.474902",
     "status": "completed"
    },
    "tags": []
   },
   "outputs": [
    {
     "data": {
      "text/html": [
       "<div>\n",
       "<style scoped>\n",
       "    .dataframe tbody tr th:only-of-type {\n",
       "        vertical-align: middle;\n",
       "    }\n",
       "\n",
       "    .dataframe tbody tr th {\n",
       "        vertical-align: top;\n",
       "    }\n",
       "\n",
       "    .dataframe thead th {\n",
       "        text-align: right;\n",
       "    }\n",
       "</style>\n",
       "<table border=\"1\" class=\"dataframe\">\n",
       "  <thead>\n",
       "    <tr style=\"text-align: right;\">\n",
       "      <th></th>\n",
       "      <th>Ticket_len</th>\n",
       "      <th>Survived</th>\n",
       "    </tr>\n",
       "  </thead>\n",
       "  <tbody>\n",
       "    <tr>\n",
       "      <th>Ticket_len</th>\n",
       "      <td>1.00000</td>\n",
       "      <td>0.21206</td>\n",
       "    </tr>\n",
       "    <tr>\n",
       "      <th>Survived</th>\n",
       "      <td>0.21206</td>\n",
       "      <td>1.00000</td>\n",
       "    </tr>\n",
       "  </tbody>\n",
       "</table>\n",
       "</div>"
      ],
      "text/plain": [
       "            Ticket_len  Survived\n",
       "Ticket_len     1.00000   0.21206\n",
       "Survived       0.21206   1.00000"
      ]
     },
     "execution_count": 43,
     "metadata": {},
     "output_type": "execute_result"
    }
   ],
   "source": [
    "train[['Ticket_len','Survived']].corr()"
   ]
  },
  {
   "cell_type": "markdown",
   "metadata": {
    "papermill": {
     "duration": 0.076632,
     "end_time": "2021-01-31T08:28:46.724507",
     "exception": false,
     "start_time": "2021-01-31T08:28:46.647875",
     "status": "completed"
    },
    "tags": []
   },
   "source": [
    "## Fare"
   ]
  },
  {
   "cell_type": "code",
   "execution_count": 44,
   "metadata": {
    "execution": {
     "iopub.execute_input": "2021-01-31T08:28:46.889221Z",
     "iopub.status.busy": "2021-01-31T08:28:46.886775Z",
     "iopub.status.idle": "2021-01-31T08:28:47.040920Z",
     "shell.execute_reply": "2021-01-31T08:28:47.040156Z"
    },
    "papermill": {
     "duration": 0.237952,
     "end_time": "2021-01-31T08:28:47.041112",
     "exception": false,
     "start_time": "2021-01-31T08:28:46.803160",
     "status": "completed"
    },
    "tags": []
   },
   "outputs": [
    {
     "data": {
      "text/plain": [
       "count    880.000000\n",
       "mean      32.245439\n",
       "std       49.941132\n",
       "min        0.000000\n",
       "25%        7.917700\n",
       "50%       14.454200\n",
       "75%       31.000000\n",
       "max      512.329200\n",
       "Name: Fare, dtype: float64"
      ]
     },
     "execution_count": 44,
     "metadata": {},
     "output_type": "execute_result"
    },
    {
     "data": {
      "image/png": "[encoded data removed]",
      "text/plain": [
       "<Figure size 432x288 with 1 Axes>"
      ]
     },
     "metadata": {
      "needs_background": "light"
     },
     "output_type": "display_data"
    }
   ],
   "source": [
    "sns.boxplot(x=train.Survived,y=train.Fare, showmeans=True);\n",
    "train.Fare.describe()"
   ]
  },
  {
   "cell_type": "markdown",
   "metadata": {
    "papermill": {
     "duration": 0.079675,
     "end_time": "2021-01-31T08:28:47.199442",
     "exception": false,
     "start_time": "2021-01-31T08:28:47.119767",
     "status": "completed"
    },
    "tags": []
   },
   "source": [
    "#### Let check Outliers"
   ]
  },
  {
   "cell_type": "code",
   "execution_count": 45,
   "metadata": {
    "execution": {
     "iopub.execute_input": "2021-01-31T08:28:47.369227Z",
     "iopub.status.busy": "2021-01-31T08:28:47.365341Z",
     "iopub.status.idle": "2021-01-31T08:28:47.374932Z",
     "shell.execute_reply": "2021-01-31T08:28:47.374265Z"
    },
    "papermill": {
     "duration": 0.097753,
     "end_time": "2021-01-31T08:28:47.375099",
     "exception": false,
     "start_time": "2021-01-31T08:28:47.277346",
     "status": "completed"
    },
    "tags": []
   },
   "outputs": [
    {
     "name": "stdout",
     "output_type": "stream",
     "text": [
      "lower : -26.70575 upper : 65.62344999999999\n",
      "Possible Number of Outliers For Fare Column 115\n"
     ]
    }
   ],
   "source": [
    "Q1 = train['Fare'].quantile(0.25) \n",
    "Q3 = train['Fare'].quantile(0.75) \n",
    "IQR = Q3 - Q1 \n",
    "lower = Q1 - 1.5 * IQR\n",
    "upper = Q3 + 1.5 * IQR\n",
    "print('lower :',lower , 'upper :', upper)\n",
    "print('Possible Number of Outliers For Fare Column'\n",
    "      ,train[(train['Fare'] <lower) | (train['Fare']  > upper)]['total_count'].sum())"
   ]
  },
  {
   "cell_type": "code",
   "execution_count": 46,
   "metadata": {
    "execution": {
     "iopub.execute_input": "2021-01-31T08:28:47.544422Z",
     "iopub.status.busy": "2021-01-31T08:28:47.543387Z",
     "iopub.status.idle": "2021-01-31T08:28:47.663081Z",
     "shell.execute_reply": "2021-01-31T08:28:47.663566Z"
    },
    "papermill": {
     "duration": 0.205801,
     "end_time": "2021-01-31T08:28:47.663751",
     "exception": false,
     "start_time": "2021-01-31T08:28:47.457950",
     "status": "completed"
    },
    "tags": []
   },
   "outputs": [
    {
     "data": {
      "image/png": "[encoded data removed]",
      "text/plain": [
       "<Figure size 432x288 with 1 Axes>"
      ]
     },
     "metadata": {
      "needs_background": "light"
     },
     "output_type": "display_data"
    }
   ],
   "source": [
    "sns.boxplot(x=train[train.Fare < 200]['Fare'], showmeans=True);"
   ]
  },
  {
   "cell_type": "code",
   "execution_count": 47,
   "metadata": {
    "execution": {
     "iopub.execute_input": "2021-01-31T08:28:47.840204Z",
     "iopub.status.busy": "2021-01-31T08:28:47.839217Z",
     "iopub.status.idle": "2021-01-31T08:28:47.852706Z",
     "shell.execute_reply": "2021-01-31T08:28:47.853529Z"
    },
    "papermill": {
     "duration": 0.102998,
     "end_time": "2021-01-31T08:28:47.853784",
     "exception": false,
     "start_time": "2021-01-31T08:28:47.750786",
     "status": "completed"
    },
    "tags": []
   },
   "outputs": [
    {
     "data": {
      "text/plain": [
       "count    20.000000\n",
       "mean      0.700000\n",
       "std       0.470162\n",
       "min       0.000000\n",
       "25%       0.000000\n",
       "50%       1.000000\n",
       "75%       1.000000\n",
       "max       1.000000\n",
       "Name: Survived, dtype: float64"
      ]
     },
     "execution_count": 47,
     "metadata": {},
     "output_type": "execute_result"
    }
   ],
   "source": [
    "train[train.Fare >= 200]['Survived'].describe()"
   ]
  },
  {
   "cell_type": "markdown",
   "metadata": {
    "papermill": {
     "duration": 0.081769,
     "end_time": "2021-01-31T08:28:48.018681",
     "exception": false,
     "start_time": "2021-01-31T08:28:47.936912",
     "status": "completed"
    },
    "tags": []
   },
   "source": [
    "### There are 20 passenger in train who paid more than 200 who more likely to survive with %70"
   ]
  },
  {
   "cell_type": "code",
   "execution_count": 48,
   "metadata": {
    "execution": {
     "iopub.execute_input": "2021-01-31T08:28:48.184424Z",
     "iopub.status.busy": "2021-01-31T08:28:48.183444Z",
     "iopub.status.idle": "2021-01-31T08:28:48.229832Z",
     "shell.execute_reply": "2021-01-31T08:28:48.230280Z"
    },
    "papermill": {
     "duration": 0.132232,
     "end_time": "2021-01-31T08:28:48.230479",
     "exception": false,
     "start_time": "2021-01-31T08:28:48.098247",
     "status": "completed"
    },
    "tags": []
   },
   "outputs": [
    {
     "data": {
      "text/html": [
       "<div>\n",
       "<style scoped>\n",
       "    .dataframe tbody tr th:only-of-type {\n",
       "        vertical-align: middle;\n",
       "    }\n",
       "\n",
       "    .dataframe tbody tr th {\n",
       "        vertical-align: top;\n",
       "    }\n",
       "\n",
       "    .dataframe thead th {\n",
       "        text-align: right;\n",
       "    }\n",
       "</style>\n",
       "<table border=\"1\" class=\"dataframe\">\n",
       "  <thead>\n",
       "    <tr style=\"text-align: right;\">\n",
       "      <th></th>\n",
       "      <th>PassengerId</th>\n",
       "      <th>Pclass</th>\n",
       "      <th>Sex</th>\n",
       "      <th>Age</th>\n",
       "      <th>SibSp</th>\n",
       "      <th>Parch</th>\n",
       "      <th>Fare</th>\n",
       "      <th>has_pseudonym</th>\n",
       "      <th>Age_group</th>\n",
       "      <th>SibSp_group</th>\n",
       "      <th>FamilySize</th>\n",
       "      <th>Ticket_len</th>\n",
       "    </tr>\n",
       "  </thead>\n",
       "  <tbody>\n",
       "    <tr>\n",
       "      <th>count</th>\n",
       "      <td>18.000000</td>\n",
       "      <td>18.0</td>\n",
       "      <td>18.000000</td>\n",
       "      <td>18.000000</td>\n",
       "      <td>18.000000</td>\n",
       "      <td>18.000000</td>\n",
       "      <td>18.000000</td>\n",
       "      <td>18.000000</td>\n",
       "      <td>18.000000</td>\n",
       "      <td>18.000000</td>\n",
       "      <td>18.000000</td>\n",
       "      <td>18.000000</td>\n",
       "    </tr>\n",
       "    <tr>\n",
       "      <th>mean</th>\n",
       "      <td>1056.666667</td>\n",
       "      <td>1.0</td>\n",
       "      <td>0.666667</td>\n",
       "      <td>43.805556</td>\n",
       "      <td>0.777778</td>\n",
       "      <td>0.944444</td>\n",
       "      <td>252.662506</td>\n",
       "      <td>0.333333</td>\n",
       "      <td>8.222222</td>\n",
       "      <td>2.944444</td>\n",
       "      <td>1.944444</td>\n",
       "      <td>1.222222</td>\n",
       "    </tr>\n",
       "    <tr>\n",
       "      <th>std</th>\n",
       "      <td>122.208116</td>\n",
       "      <td>0.0</td>\n",
       "      <td>0.485071</td>\n",
       "      <td>14.875106</td>\n",
       "      <td>0.808452</td>\n",
       "      <td>1.161754</td>\n",
       "      <td>68.649585</td>\n",
       "      <td>0.485071</td>\n",
       "      <td>2.289504</td>\n",
       "      <td>0.235702</td>\n",
       "      <td>0.802366</td>\n",
       "      <td>0.427793</td>\n",
       "    </tr>\n",
       "    <tr>\n",
       "      <th>min</th>\n",
       "      <td>916.000000</td>\n",
       "      <td>1.0</td>\n",
       "      <td>0.000000</td>\n",
       "      <td>13.000000</td>\n",
       "      <td>0.000000</td>\n",
       "      <td>0.000000</td>\n",
       "      <td>211.337500</td>\n",
       "      <td>0.000000</td>\n",
       "      <td>1.000000</td>\n",
       "      <td>2.000000</td>\n",
       "      <td>1.000000</td>\n",
       "      <td>1.000000</td>\n",
       "    </tr>\n",
       "    <tr>\n",
       "      <th>25%</th>\n",
       "      <td>962.250000</td>\n",
       "      <td>1.0</td>\n",
       "      <td>0.000000</td>\n",
       "      <td>33.125000</td>\n",
       "      <td>0.000000</td>\n",
       "      <td>0.000000</td>\n",
       "      <td>214.069800</td>\n",
       "      <td>0.000000</td>\n",
       "      <td>7.250000</td>\n",
       "      <td>3.000000</td>\n",
       "      <td>1.000000</td>\n",
       "      <td>1.000000</td>\n",
       "    </tr>\n",
       "    <tr>\n",
       "      <th>50%</th>\n",
       "      <td>1020.000000</td>\n",
       "      <td>1.0</td>\n",
       "      <td>1.000000</td>\n",
       "      <td>46.000000</td>\n",
       "      <td>1.000000</td>\n",
       "      <td>0.500000</td>\n",
       "      <td>237.522900</td>\n",
       "      <td>0.000000</td>\n",
       "      <td>9.000000</td>\n",
       "      <td>3.000000</td>\n",
       "      <td>2.000000</td>\n",
       "      <td>1.000000</td>\n",
       "    </tr>\n",
       "    <tr>\n",
       "      <th>75%</th>\n",
       "      <td>1106.000000</td>\n",
       "      <td>1.0</td>\n",
       "      <td>1.000000</td>\n",
       "      <td>56.000000</td>\n",
       "      <td>1.000000</td>\n",
       "      <td>1.750000</td>\n",
       "      <td>262.375000</td>\n",
       "      <td>1.000000</td>\n",
       "      <td>10.000000</td>\n",
       "      <td>3.000000</td>\n",
       "      <td>2.750000</td>\n",
       "      <td>1.000000</td>\n",
       "    </tr>\n",
       "    <tr>\n",
       "      <th>max</th>\n",
       "      <td>1299.000000</td>\n",
       "      <td>1.0</td>\n",
       "      <td>1.000000</td>\n",
       "      <td>67.000000</td>\n",
       "      <td>3.000000</td>\n",
       "      <td>3.000000</td>\n",
       "      <td>512.329200</td>\n",
       "      <td>1.000000</td>\n",
       "      <td>10.000000</td>\n",
       "      <td>3.000000</td>\n",
       "      <td>3.000000</td>\n",
       "      <td>2.000000</td>\n",
       "    </tr>\n",
       "  </tbody>\n",
       "</table>\n",
       "</div>"
      ],
      "text/plain": [
       "       PassengerId  Pclass        Sex        Age      SibSp      Parch  \\\n",
       "count    18.000000    18.0  18.000000  18.000000  18.000000  18.000000   \n",
       "mean   1056.666667     1.0   0.666667  43.805556   0.777778   0.944444   \n",
       "std     122.208116     0.0   0.485071  14.875106   0.808452   1.161754   \n",
       "min     916.000000     1.0   0.000000  13.000000   0.000000   0.000000   \n",
       "25%     962.250000     1.0   0.000000  33.125000   0.000000   0.000000   \n",
       "50%    1020.000000     1.0   1.000000  46.000000   1.000000   0.500000   \n",
       "75%    1106.000000     1.0   1.000000  56.000000   1.000000   1.750000   \n",
       "max    1299.000000     1.0   1.000000  67.000000   3.000000   3.000000   \n",
       "\n",
       "             Fare  has_pseudonym  Age_group  SibSp_group  FamilySize  \\\n",
       "count   18.000000      18.000000  18.000000    18.000000   18.000000   \n",
       "mean   252.662506       0.333333   8.222222     2.944444    1.944444   \n",
       "std     68.649585       0.485071   2.289504     0.235702    0.802366   \n",
       "min    211.337500       0.000000   1.000000     2.000000    1.000000   \n",
       "25%    214.069800       0.000000   7.250000     3.000000    1.000000   \n",
       "50%    237.522900       0.000000   9.000000     3.000000    2.000000   \n",
       "75%    262.375000       1.000000  10.000000     3.000000    2.750000   \n",
       "max    512.329200       1.000000  10.000000     3.000000    3.000000   \n",
       "\n",
       "       Ticket_len  \n",
       "count   18.000000  \n",
       "mean     1.222222  \n",
       "std      0.427793  \n",
       "min      1.000000  \n",
       "25%      1.000000  \n",
       "50%      1.000000  \n",
       "75%      1.000000  \n",
       "max      2.000000  "
      ]
     },
     "execution_count": 48,
     "metadata": {},
     "output_type": "execute_result"
    }
   ],
   "source": [
    "test[test.Fare > 200].describe()"
   ]
  },
  {
   "cell_type": "code",
   "execution_count": 49,
   "metadata": {
    "execution": {
     "iopub.execute_input": "2021-01-31T08:28:48.393902Z",
     "iopub.status.busy": "2021-01-31T08:28:48.392953Z",
     "iopub.status.idle": "2021-01-31T08:28:48.398560Z",
     "shell.execute_reply": "2021-01-31T08:28:48.399086Z"
    },
    "papermill": {
     "duration": 0.08993,
     "end_time": "2021-01-31T08:28:48.399282",
     "exception": false,
     "start_time": "2021-01-31T08:28:48.309352",
     "status": "completed"
    },
    "tags": []
   },
   "outputs": [],
   "source": [
    "train = train[train.Fare < 200]"
   ]
  },
  {
   "cell_type": "code",
   "execution_count": 50,
   "metadata": {
    "execution": {
     "iopub.execute_input": "2021-01-31T08:28:48.572828Z",
     "iopub.status.busy": "2021-01-31T08:28:48.571791Z",
     "iopub.status.idle": "2021-01-31T08:28:48.577187Z",
     "shell.execute_reply": "2021-01-31T08:28:48.577693Z"
    },
    "papermill": {
     "duration": 0.092718,
     "end_time": "2021-01-31T08:28:48.577898",
     "exception": false,
     "start_time": "2021-01-31T08:28:48.485180",
     "status": "completed"
    },
    "tags": []
   },
   "outputs": [],
   "source": [
    "## there is not null in train Fare but there is only one in test Fare \n",
    "test.Fare.fillna(test.Fare.median(),inplace = True)"
   ]
  },
  {
   "cell_type": "code",
   "execution_count": 51,
   "metadata": {
    "execution": {
     "iopub.execute_input": "2021-01-31T08:28:48.748168Z",
     "iopub.status.busy": "2021-01-31T08:28:48.746980Z",
     "iopub.status.idle": "2021-01-31T08:28:48.773893Z",
     "shell.execute_reply": "2021-01-31T08:28:48.774381Z"
    },
    "papermill": {
     "duration": 0.11584,
     "end_time": "2021-01-31T08:28:48.774613",
     "exception": false,
     "start_time": "2021-01-31T08:28:48.658773",
     "status": "completed"
    },
    "tags": []
   },
   "outputs": [
    {
     "data": {
      "text/html": [
       "<div>\n",
       "<style scoped>\n",
       "    .dataframe tbody tr th:only-of-type {\n",
       "        vertical-align: middle;\n",
       "    }\n",
       "\n",
       "    .dataframe tbody tr th {\n",
       "        vertical-align: top;\n",
       "    }\n",
       "\n",
       "    .dataframe thead th {\n",
       "        text-align: right;\n",
       "    }\n",
       "</style>\n",
       "<table border=\"1\" class=\"dataframe\">\n",
       "  <thead>\n",
       "    <tr style=\"text-align: right;\">\n",
       "      <th></th>\n",
       "      <th>Fare_group</th>\n",
       "      <th>Survived</th>\n",
       "    </tr>\n",
       "  </thead>\n",
       "  <tbody>\n",
       "    <tr>\n",
       "      <th>Fare_group</th>\n",
       "      <td>1.000000</td>\n",
       "      <td>0.321358</td>\n",
       "    </tr>\n",
       "    <tr>\n",
       "      <th>Survived</th>\n",
       "      <td>0.321358</td>\n",
       "      <td>1.000000</td>\n",
       "    </tr>\n",
       "  </tbody>\n",
       "</table>\n",
       "</div>"
      ],
      "text/plain": [
       "            Fare_group  Survived\n",
       "Fare_group    1.000000  0.321358\n",
       "Survived      0.321358  1.000000"
      ]
     },
     "execution_count": 51,
     "metadata": {},
     "output_type": "execute_result"
    }
   ],
   "source": [
    "## Lets do same groupbing for Fare as we did in Age, and we come up with 13 bins to be the best from 1 to 15\n",
    "label_list = list(range(1,14))\n",
    "train['Fare_group'] = pd.qcut(train['Fare'], 13,labels = label_list)\n",
    "test['Fare_group'] = pd.qcut(test['Fare'], 13,labels = label_list)\n",
    "train['Fare_group'] = train['Fare_group'].astype('int')\n",
    "test['Fare_group'] = test['Fare_group'].astype('int')\n",
    "train[['Fare_group','Survived']].corr()"
   ]
  },
  {
   "cell_type": "code",
   "execution_count": 52,
   "metadata": {
    "execution": {
     "iopub.execute_input": "2021-01-31T08:28:48.939411Z",
     "iopub.status.busy": "2021-01-31T08:28:48.938396Z",
     "iopub.status.idle": "2021-01-31T08:28:49.299805Z",
     "shell.execute_reply": "2021-01-31T08:28:49.300247Z"
    },
    "papermill": {
     "duration": 0.445026,
     "end_time": "2021-01-31T08:28:49.300441",
     "exception": false,
     "start_time": "2021-01-31T08:28:48.855415",
     "status": "completed"
    },
    "tags": []
   },
   "outputs": [
    {
     "name": "stdout",
     "output_type": "stream",
     "text": [
      "                mean  count\n",
      "Fare_group                 \n",
      "1           0.142857     70\n",
      "2           0.279412     68\n",
      "3           0.182927     82\n",
      "4           0.225806     62\n",
      "5           0.163265     49\n",
      "6           0.434783     92\n",
      "7           0.304348     46\n",
      "8           0.483333     60\n",
      "9           0.470588     68\n",
      "10          0.476923     65\n",
      "11          0.352113     71\n",
      "12          0.633333     60\n",
      "13          0.776119     67\n"
     ]
    },
    {
     "data": {
      "image/png": "[encoded data removed]",
      "text/plain": [
       "<Figure size 432x288 with 1 Axes>"
      ]
     },
     "metadata": {
      "needs_background": "light"
     },
     "output_type": "display_data"
    }
   ],
   "source": [
    "sns.barplot(data = pd.DataFrame(train.groupby(['Fare_group','Survived'])['total_count'].count()).reset_index()\n",
    "            , x = 'Fare_group',y='total_count', hue = 'Survived');\n",
    "print(train.groupby(['Fare_group'])['Survived'].agg(['mean','count']))"
   ]
  },
  {
   "cell_type": "code",
   "execution_count": 53,
   "metadata": {
    "execution": {
     "iopub.execute_input": "2021-01-31T08:28:49.473240Z",
     "iopub.status.busy": "2021-01-31T08:28:49.472537Z",
     "iopub.status.idle": "2021-01-31T08:28:49.485135Z",
     "shell.execute_reply": "2021-01-31T08:28:49.484576Z"
    },
    "papermill": {
     "duration": 0.103693,
     "end_time": "2021-01-31T08:28:49.485291",
     "exception": false,
     "start_time": "2021-01-31T08:28:49.381598",
     "status": "completed"
    },
    "tags": []
   },
   "outputs": [
    {
     "data": {
      "text/html": [
       "<div>\n",
       "<style scoped>\n",
       "    .dataframe tbody tr th:only-of-type {\n",
       "        vertical-align: middle;\n",
       "    }\n",
       "\n",
       "    .dataframe tbody tr th {\n",
       "        vertical-align: top;\n",
       "    }\n",
       "\n",
       "    .dataframe thead th {\n",
       "        text-align: right;\n",
       "    }\n",
       "</style>\n",
       "<table border=\"1\" class=\"dataframe\">\n",
       "  <thead>\n",
       "    <tr style=\"text-align: right;\">\n",
       "      <th></th>\n",
       "      <th>Fare_group_flag</th>\n",
       "      <th>Survived</th>\n",
       "    </tr>\n",
       "  </thead>\n",
       "  <tbody>\n",
       "    <tr>\n",
       "      <th>Fare_group_flag</th>\n",
       "      <td>1.000000</td>\n",
       "      <td>0.294669</td>\n",
       "    </tr>\n",
       "    <tr>\n",
       "      <th>Survived</th>\n",
       "      <td>0.294669</td>\n",
       "      <td>1.000000</td>\n",
       "    </tr>\n",
       "  </tbody>\n",
       "</table>\n",
       "</div>"
      ],
      "text/plain": [
       "                 Fare_group_flag  Survived\n",
       "Fare_group_flag         1.000000  0.294669\n",
       "Survived                0.294669  1.000000"
      ]
     },
     "execution_count": 53,
     "metadata": {},
     "output_type": "execute_result"
    }
   ],
   "source": [
    "train['Fare_group_flag'] = np.where(train['Fare_group'] < 6 ,1, 2)\n",
    "test['Fare_group_flag'] = np.where(test['Fare_group'] < 6 ,1, 2)\n",
    "train[['Fare_group_flag','Survived']].corr()"
   ]
  },
  {
   "cell_type": "code",
   "execution_count": 54,
   "metadata": {
    "execution": {
     "iopub.execute_input": "2021-01-31T08:28:49.671760Z",
     "iopub.status.busy": "2021-01-31T08:28:49.671042Z",
     "iopub.status.idle": "2021-01-31T08:28:49.859913Z",
     "shell.execute_reply": "2021-01-31T08:28:49.860437Z"
    },
    "papermill": {
     "duration": 0.285648,
     "end_time": "2021-01-31T08:28:49.860640",
     "exception": false,
     "start_time": "2021-01-31T08:28:49.574992",
     "status": "completed"
    },
    "tags": []
   },
   "outputs": [
    {
     "name": "stdout",
     "output_type": "stream",
     "text": [
      "                     mean  count\n",
      "Fare_group_flag                 \n",
      "1                0.199396    331\n",
      "2                0.493384    529\n"
     ]
    },
    {
     "data": {
      "image/png": "[encoded data removed]",
      "text/plain": [
       "<Figure size 432x288 with 1 Axes>"
      ]
     },
     "metadata": {
      "needs_background": "light"
     },
     "output_type": "display_data"
    }
   ],
   "source": [
    "sns.barplot(data = pd.DataFrame(train.groupby(['Fare_group_flag','Survived'])['total_count'].count()).reset_index()\n",
    "            , x = 'Fare_group_flag',y='total_count', hue = 'Survived');\n",
    "print(train.groupby(['Fare_group_flag'])['Survived'].agg(['mean','count']))"
   ]
  },
  {
   "cell_type": "markdown",
   "metadata": {
    "papermill": {
     "duration": 0.087883,
     "end_time": "2021-01-31T08:28:50.033450",
     "exception": false,
     "start_time": "2021-01-31T08:28:49.945567",
     "status": "completed"
    },
    "tags": []
   },
   "source": [
    "## Cabin"
   ]
  },
  {
   "cell_type": "code",
   "execution_count": 55,
   "metadata": {
    "execution": {
     "iopub.execute_input": "2021-01-31T08:28:50.216901Z",
     "iopub.status.busy": "2021-01-31T08:28:50.215883Z",
     "iopub.status.idle": "2021-01-31T08:28:50.220181Z",
     "shell.execute_reply": "2021-01-31T08:28:50.219642Z"
    },
    "papermill": {
     "duration": 0.100133,
     "end_time": "2021-01-31T08:28:50.220339",
     "exception": false,
     "start_time": "2021-01-31T08:28:50.120206",
     "status": "completed"
    },
    "tags": []
   },
   "outputs": [],
   "source": [
    "train['Cabin'] = train['Cabin'].str[0]\n",
    "train['Cabin'] = np.where(train['Cabin'].isnull(),'No_Cabin',train['Cabin'])\n",
    "test['Cabin'] = test['Cabin'].str[0]\n",
    "test['Cabin'] = np.where(test['Cabin'].isnull(),'No_Cabin',test['Cabin'])"
   ]
  },
  {
   "cell_type": "code",
   "execution_count": 56,
   "metadata": {
    "execution": {
     "iopub.execute_input": "2021-01-31T08:28:50.411108Z",
     "iopub.status.busy": "2021-01-31T08:28:50.404603Z",
     "iopub.status.idle": "2021-01-31T08:28:50.712165Z",
     "shell.execute_reply": "2021-01-31T08:28:50.711441Z"
    },
    "papermill": {
     "duration": 0.403403,
     "end_time": "2021-01-31T08:28:50.712314",
     "exception": false,
     "start_time": "2021-01-31T08:28:50.308911",
     "status": "completed"
    },
    "tags": []
   },
   "outputs": [
    {
     "name": "stdout",
     "output_type": "stream",
     "text": [
      "Cabin\n",
      "A           0.461538\n",
      "B           0.750000\n",
      "C           0.607843\n",
      "D           0.757576\n",
      "E           0.774194\n",
      "F           0.615385\n",
      "G           0.500000\n",
      "No_Cabin    0.300885\n",
      "T           0.000000\n",
      "Name: Survived, dtype: float64\n"
     ]
    },
    {
     "data": {
      "image/png": "[encoded data removed]",
      "text/plain": [
       "<Figure size 432x288 with 1 Axes>"
      ]
     },
     "metadata": {
      "needs_background": "light"
     },
     "output_type": "display_data"
    }
   ],
   "source": [
    "sns.barplot(data = pd.DataFrame(train.groupby(['Cabin','Survived'])['total_count'].sum()).reset_index()\n",
    "            , x = 'Cabin',y='total_count', hue = 'Survived');\n",
    "print(train.groupby(['Cabin'])['Survived'].mean())"
   ]
  },
  {
   "cell_type": "markdown",
   "metadata": {
    "papermill": {
     "duration": 0.089571,
     "end_time": "2021-01-31T08:28:50.888387",
     "exception": false,
     "start_time": "2021-01-31T08:28:50.798816",
     "status": "completed"
    },
    "tags": []
   },
   "source": [
    "#### It is clear that passengers in cabin B,C,D,E even F has more survival chance than others, lets flag this"
   ]
  },
  {
   "cell_type": "code",
   "execution_count": 57,
   "metadata": {
    "execution": {
     "iopub.execute_input": "2021-01-31T08:28:51.079252Z",
     "iopub.status.busy": "2021-01-31T08:28:51.078602Z",
     "iopub.status.idle": "2021-01-31T08:28:51.081872Z",
     "shell.execute_reply": "2021-01-31T08:28:51.081202Z"
    },
    "papermill": {
     "duration": 0.098796,
     "end_time": "2021-01-31T08:28:51.082023",
     "exception": false,
     "start_time": "2021-01-31T08:28:50.983227",
     "status": "completed"
    },
    "tags": []
   },
   "outputs": [],
   "source": [
    "### There is only one with Cabin =  T\n",
    "train = train[train['Cabin'] != 'T']"
   ]
  },
  {
   "cell_type": "code",
   "execution_count": 58,
   "metadata": {
    "execution": {
     "iopub.execute_input": "2021-01-31T08:28:51.265752Z",
     "iopub.status.busy": "2021-01-31T08:28:51.265053Z",
     "iopub.status.idle": "2021-01-31T08:28:51.271920Z",
     "shell.execute_reply": "2021-01-31T08:28:51.272437Z"
    },
    "papermill": {
     "duration": 0.103913,
     "end_time": "2021-01-31T08:28:51.272698",
     "exception": false,
     "start_time": "2021-01-31T08:28:51.168785",
     "status": "completed"
    },
    "tags": []
   },
   "outputs": [],
   "source": [
    "train['Cabin_group'] = np.where((train['Cabin'] == 'A') | (train['Cabin'] == 'G') | (train['Cabin'] == 'No_Cabin'),0,1)\n",
    "\n",
    "test['Cabin_group'] = np.where((test['Cabin'] == 'A') | (test['Cabin'] == 'G') | (test['Cabin'] == 'No_Cabin'),0,1)"
   ]
  },
  {
   "cell_type": "code",
   "execution_count": 59,
   "metadata": {
    "execution": {
     "iopub.execute_input": "2021-01-31T08:28:51.469196Z",
     "iopub.status.busy": "2021-01-31T08:28:51.459189Z",
     "iopub.status.idle": "2021-01-31T08:28:51.473947Z",
     "shell.execute_reply": "2021-01-31T08:28:51.473268Z"
    },
    "papermill": {
     "duration": 0.113379,
     "end_time": "2021-01-31T08:28:51.474111",
     "exception": false,
     "start_time": "2021-01-31T08:28:51.360732",
     "status": "completed"
    },
    "tags": []
   },
   "outputs": [
    {
     "data": {
      "text/html": [
       "<div>\n",
       "<style scoped>\n",
       "    .dataframe tbody tr th:only-of-type {\n",
       "        vertical-align: middle;\n",
       "    }\n",
       "\n",
       "    .dataframe tbody tr th {\n",
       "        vertical-align: top;\n",
       "    }\n",
       "\n",
       "    .dataframe thead th {\n",
       "        text-align: right;\n",
       "    }\n",
       "</style>\n",
       "<table border=\"1\" class=\"dataframe\">\n",
       "  <thead>\n",
       "    <tr style=\"text-align: right;\">\n",
       "      <th></th>\n",
       "      <th>Cabin_group</th>\n",
       "      <th>Survived</th>\n",
       "    </tr>\n",
       "  </thead>\n",
       "  <tbody>\n",
       "    <tr>\n",
       "      <th>Cabin_group</th>\n",
       "      <td>1.000000</td>\n",
       "      <td>0.320687</td>\n",
       "    </tr>\n",
       "    <tr>\n",
       "      <th>Survived</th>\n",
       "      <td>0.320687</td>\n",
       "      <td>1.000000</td>\n",
       "    </tr>\n",
       "  </tbody>\n",
       "</table>\n",
       "</div>"
      ],
      "text/plain": [
       "             Cabin_group  Survived\n",
       "Cabin_group     1.000000  0.320687\n",
       "Survived        0.320687  1.000000"
      ]
     },
     "execution_count": 59,
     "metadata": {},
     "output_type": "execute_result"
    }
   ],
   "source": [
    "train[['Cabin_group','Survived']].corr()"
   ]
  },
  {
   "cell_type": "code",
   "execution_count": 60,
   "metadata": {
    "execution": {
     "iopub.execute_input": "2021-01-31T08:28:51.677225Z",
     "iopub.status.busy": "2021-01-31T08:28:51.676572Z",
     "iopub.status.idle": "2021-01-31T08:28:51.683098Z",
     "shell.execute_reply": "2021-01-31T08:28:51.682324Z"
    },
    "papermill": {
     "duration": 0.117974,
     "end_time": "2021-01-31T08:28:51.683282",
     "exception": false,
     "start_time": "2021-01-31T08:28:51.565308",
     "status": "completed"
    },
    "tags": []
   },
   "outputs": [
    {
     "data": {
      "text/html": [
       "<div>\n",
       "<style scoped>\n",
       "    .dataframe tbody tr th:only-of-type {\n",
       "        vertical-align: middle;\n",
       "    }\n",
       "\n",
       "    .dataframe tbody tr th {\n",
       "        vertical-align: top;\n",
       "    }\n",
       "\n",
       "    .dataframe thead th {\n",
       "        text-align: right;\n",
       "    }\n",
       "</style>\n",
       "<table border=\"1\" class=\"dataframe\">\n",
       "  <thead>\n",
       "    <tr style=\"text-align: right;\">\n",
       "      <th></th>\n",
       "      <th>Cabin_flag</th>\n",
       "      <th>Survived</th>\n",
       "    </tr>\n",
       "  </thead>\n",
       "  <tbody>\n",
       "    <tr>\n",
       "      <th>Cabin_flag</th>\n",
       "      <td>1.000000</td>\n",
       "      <td>0.318045</td>\n",
       "    </tr>\n",
       "    <tr>\n",
       "      <th>Survived</th>\n",
       "      <td>0.318045</td>\n",
       "      <td>1.000000</td>\n",
       "    </tr>\n",
       "  </tbody>\n",
       "</table>\n",
       "</div>"
      ],
      "text/plain": [
       "            Cabin_flag  Survived\n",
       "Cabin_flag    1.000000  0.318045\n",
       "Survived      0.318045  1.000000"
      ]
     },
     "execution_count": 60,
     "metadata": {},
     "output_type": "execute_result"
    }
   ],
   "source": [
    "train['Cabin_flag'] = np.where(train.Cabin == 'No_Cabin',0,1)\n",
    "test['Cabin_flag'] = np.where(test.Cabin == 'No_Cabin',0,1)\n",
    "train[['Cabin_flag','Survived']].corr()"
   ]
  },
  {
   "cell_type": "markdown",
   "metadata": {
    "papermill": {
     "duration": 0.094138,
     "end_time": "2021-01-31T08:28:51.868500",
     "exception": false,
     "start_time": "2021-01-31T08:28:51.774362",
     "status": "completed"
    },
    "tags": []
   },
   "source": [
    "## Embarked"
   ]
  },
  {
   "cell_type": "code",
   "execution_count": 61,
   "metadata": {
    "execution": {
     "iopub.execute_input": "2021-01-31T08:28:52.061581Z",
     "iopub.status.busy": "2021-01-31T08:28:52.060481Z",
     "iopub.status.idle": "2021-01-31T08:28:52.065206Z",
     "shell.execute_reply": "2021-01-31T08:28:52.064620Z"
    },
    "papermill": {
     "duration": 0.10563,
     "end_time": "2021-01-31T08:28:52.065375",
     "exception": false,
     "start_time": "2021-01-31T08:28:51.959745",
     "status": "completed"
    },
    "tags": []
   },
   "outputs": [
    {
     "name": "stdout",
     "output_type": "stream",
     "text": [
      "Null values in Train Embarked 2\n",
      "Null values in Test  Embarked 0\n"
     ]
    }
   ],
   "source": [
    "print('Null values in Train Embarked',train.Embarked.isnull().sum())\n",
    "print('Null values in Test  Embarked',test.Embarked.isnull().sum())"
   ]
  },
  {
   "cell_type": "code",
   "execution_count": 62,
   "metadata": {
    "execution": {
     "iopub.execute_input": "2021-01-31T08:28:52.251818Z",
     "iopub.status.busy": "2021-01-31T08:28:52.251077Z",
     "iopub.status.idle": "2021-01-31T08:28:52.273365Z",
     "shell.execute_reply": "2021-01-31T08:28:52.272779Z"
    },
    "papermill": {
     "duration": 0.119467,
     "end_time": "2021-01-31T08:28:52.273548",
     "exception": false,
     "start_time": "2021-01-31T08:28:52.154081",
     "status": "completed"
    },
    "tags": []
   },
   "outputs": [
    {
     "data": {
      "text/html": [
       "<div>\n",
       "<style scoped>\n",
       "    .dataframe tbody tr th:only-of-type {\n",
       "        vertical-align: middle;\n",
       "    }\n",
       "\n",
       "    .dataframe tbody tr th {\n",
       "        vertical-align: top;\n",
       "    }\n",
       "\n",
       "    .dataframe thead th {\n",
       "        text-align: right;\n",
       "    }\n",
       "</style>\n",
       "<table border=\"1\" class=\"dataframe\">\n",
       "  <thead>\n",
       "    <tr style=\"text-align: right;\">\n",
       "      <th></th>\n",
       "      <th>count</th>\n",
       "      <th>mean</th>\n",
       "      <th>std</th>\n",
       "      <th>min</th>\n",
       "      <th>25%</th>\n",
       "      <th>50%</th>\n",
       "      <th>75%</th>\n",
       "      <th>max</th>\n",
       "    </tr>\n",
       "    <tr>\n",
       "      <th>Embarked</th>\n",
       "      <th></th>\n",
       "      <th></th>\n",
       "      <th></th>\n",
       "      <th></th>\n",
       "      <th></th>\n",
       "      <th></th>\n",
       "      <th></th>\n",
       "      <th></th>\n",
       "    </tr>\n",
       "  </thead>\n",
       "  <tbody>\n",
       "    <tr>\n",
       "      <th>C</th>\n",
       "      <td>153.0</td>\n",
       "      <td>0.549020</td>\n",
       "      <td>0.499225</td>\n",
       "      <td>0.0</td>\n",
       "      <td>0.0</td>\n",
       "      <td>1.0</td>\n",
       "      <td>1.0</td>\n",
       "      <td>1.0</td>\n",
       "    </tr>\n",
       "    <tr>\n",
       "      <th>Q</th>\n",
       "      <td>75.0</td>\n",
       "      <td>0.400000</td>\n",
       "      <td>0.493197</td>\n",
       "      <td>0.0</td>\n",
       "      <td>0.0</td>\n",
       "      <td>0.0</td>\n",
       "      <td>1.0</td>\n",
       "      <td>1.0</td>\n",
       "    </tr>\n",
       "    <tr>\n",
       "      <th>S</th>\n",
       "      <td>629.0</td>\n",
       "      <td>0.335453</td>\n",
       "      <td>0.472524</td>\n",
       "      <td>0.0</td>\n",
       "      <td>0.0</td>\n",
       "      <td>0.0</td>\n",
       "      <td>1.0</td>\n",
       "      <td>1.0</td>\n",
       "    </tr>\n",
       "  </tbody>\n",
       "</table>\n",
       "</div>"
      ],
      "text/plain": [
       "          count      mean       std  min  25%  50%  75%  max\n",
       "Embarked                                                    \n",
       "C         153.0  0.549020  0.499225  0.0  0.0  1.0  1.0  1.0\n",
       "Q          75.0  0.400000  0.493197  0.0  0.0  0.0  1.0  1.0\n",
       "S         629.0  0.335453  0.472524  0.0  0.0  0.0  1.0  1.0"
      ]
     },
     "execution_count": 62,
     "metadata": {},
     "output_type": "execute_result"
    }
   ],
   "source": [
    "train.groupby('Embarked')['Survived'].describe()"
   ]
  },
  {
   "cell_type": "markdown",
   "metadata": {
    "papermill": {
     "duration": 0.089633,
     "end_time": "2021-01-31T08:28:52.453142",
     "exception": false,
     "start_time": "2021-01-31T08:28:52.363509",
     "status": "completed"
    },
    "tags": []
   },
   "source": [
    "There were only 2 null value in train Embarked column, I will fill them with most occured one which is 'S'. There were non null in test"
   ]
  },
  {
   "cell_type": "code",
   "execution_count": 63,
   "metadata": {
    "execution": {
     "iopub.execute_input": "2021-01-31T08:28:52.640482Z",
     "iopub.status.busy": "2021-01-31T08:28:52.639836Z",
     "iopub.status.idle": "2021-01-31T08:28:52.641905Z",
     "shell.execute_reply": "2021-01-31T08:28:52.642375Z"
    },
    "papermill": {
     "duration": 0.099399,
     "end_time": "2021-01-31T08:28:52.642576",
     "exception": false,
     "start_time": "2021-01-31T08:28:52.543177",
     "status": "completed"
    },
    "tags": []
   },
   "outputs": [],
   "source": [
    "train.Embarked.fillna('S',inplace = True)"
   ]
  },
  {
   "cell_type": "markdown",
   "metadata": {
    "papermill": {
     "duration": 0.093591,
     "end_time": "2021-01-31T08:28:52.825133",
     "exception": false,
     "start_time": "2021-01-31T08:28:52.731542",
     "status": "completed"
    },
    "tags": []
   },
   "source": [
    "## Correlation"
   ]
  },
  {
   "cell_type": "code",
   "execution_count": 64,
   "metadata": {
    "execution": {
     "iopub.execute_input": "2021-01-31T08:28:53.010393Z",
     "iopub.status.busy": "2021-01-31T08:28:53.009400Z",
     "iopub.status.idle": "2021-01-31T08:28:54.932436Z",
     "shell.execute_reply": "2021-01-31T08:28:54.932979Z"
    },
    "papermill": {
     "duration": 2.017769,
     "end_time": "2021-01-31T08:28:54.933157",
     "exception": false,
     "start_time": "2021-01-31T08:28:52.915388",
     "status": "completed"
    },
    "tags": []
   },
   "outputs": [
    {
     "data": {
      "image/png": "[encoded data removed]",
      "text/plain": [
       "<Figure size 864x720 with 2 Axes>"
      ]
     },
     "metadata": {
      "needs_background": "light"
     },
     "output_type": "display_data"
    }
   ],
   "source": [
    "plt.subplots(figsize=(12,10))\n",
    "sns.heatmap(train.drop(columns = ['PassengerId','total_count']).corr(), annot=True, linewidths=.5);"
   ]
  },
  {
   "cell_type": "markdown",
   "metadata": {
    "papermill": {
     "duration": 0.09859,
     "end_time": "2021-01-31T08:28:55.127814",
     "exception": false,
     "start_time": "2021-01-31T08:28:55.029224",
     "status": "completed"
    },
    "tags": []
   },
   "source": [
    "- Most important features are : Sex, has_pseudonym,Cabin_flag,Fare and Pclass \n",
    "- As expected FamilySize, SibSp and Parch are highly correlated"
   ]
  },
  {
   "cell_type": "code",
   "execution_count": 65,
   "metadata": {
    "execution": {
     "iopub.execute_input": "2021-01-31T08:28:55.319858Z",
     "iopub.status.busy": "2021-01-31T08:28:55.318988Z",
     "iopub.status.idle": "2021-01-31T08:28:55.324602Z",
     "shell.execute_reply": "2021-01-31T08:28:55.325065Z"
    },
    "papermill": {
     "duration": 0.102078,
     "end_time": "2021-01-31T08:28:55.325248",
     "exception": false,
     "start_time": "2021-01-31T08:28:55.223170",
     "status": "completed"
    },
    "tags": []
   },
   "outputs": [
    {
     "data": {
      "text/plain": [
       "Index(['PassengerId', 'Survived', 'Pclass', 'Name', 'Sex', 'Age', 'SibSp',\n",
       "       'Parch', 'Ticket', 'Fare', 'Cabin', 'Embarked', 'total_count', 'Title',\n",
       "       'has_pseudonym', 'Age_group', 'SibSp_group', 'FamilySize', 'Ticket_len',\n",
       "       'Fare_group', 'Fare_group_flag', 'Cabin_group', 'Cabin_flag'],\n",
       "      dtype='object')"
      ]
     },
     "execution_count": 65,
     "metadata": {},
     "output_type": "execute_result"
    }
   ],
   "source": [
    "train.columns"
   ]
  },
  {
   "cell_type": "code",
   "execution_count": 66,
   "metadata": {
    "execution": {
     "iopub.execute_input": "2021-01-31T08:28:55.520692Z",
     "iopub.status.busy": "2021-01-31T08:28:55.519967Z",
     "iopub.status.idle": "2021-01-31T08:28:55.546106Z",
     "shell.execute_reply": "2021-01-31T08:28:55.546625Z"
    },
    "papermill": {
     "duration": 0.125895,
     "end_time": "2021-01-31T08:28:55.546822",
     "exception": false,
     "start_time": "2021-01-31T08:28:55.420927",
     "status": "completed"
    },
    "tags": []
   },
   "outputs": [],
   "source": [
    "train = pd.get_dummies(data=train,columns=['Pclass','Embarked','Title','Cabin','FamilySize'],drop_first=True)\n",
    "test = pd.get_dummies(data=test,columns=['Pclass','Embarked','Title','Cabin','FamilySize'],drop_first=True)"
   ]
  },
  {
   "cell_type": "code",
   "execution_count": 67,
   "metadata": {
    "execution": {
     "iopub.execute_input": "2021-01-31T08:28:55.745667Z",
     "iopub.status.busy": "2021-01-31T08:28:55.744951Z",
     "iopub.status.idle": "2021-01-31T08:28:55.751385Z",
     "shell.execute_reply": "2021-01-31T08:28:55.751870Z"
    },
    "papermill": {
     "duration": 0.105735,
     "end_time": "2021-01-31T08:28:55.752062",
     "exception": false,
     "start_time": "2021-01-31T08:28:55.646327",
     "status": "completed"
    },
    "tags": []
   },
   "outputs": [],
   "source": [
    "features = train.drop(columns = ['PassengerId', 'Survived', 'Name', 'Ticket','total_count']).columns"
   ]
  },
  {
   "cell_type": "code",
   "execution_count": 68,
   "metadata": {
    "execution": {
     "iopub.execute_input": "2021-01-31T08:28:55.954313Z",
     "iopub.status.busy": "2021-01-31T08:28:55.953428Z",
     "iopub.status.idle": "2021-01-31T08:28:56.125167Z",
     "shell.execute_reply": "2021-01-31T08:28:56.125750Z"
    },
    "papermill": {
     "duration": 0.274348,
     "end_time": "2021-01-31T08:28:56.125953",
     "exception": false,
     "start_time": "2021-01-31T08:28:55.851605",
     "status": "completed"
    },
    "tags": []
   },
   "outputs": [
    {
     "name": "stdout",
     "output_type": "stream",
     "text": [
      "(859, 32)\n",
      "(859,)\n",
      "(418, 32)\n"
     ]
    }
   ],
   "source": [
    "from sklearn.preprocessing import MinMaxScaler\n",
    "from sklearn.model_selection import train_test_split\n",
    "\n",
    "X_ = train[features]\n",
    "y = train.Survived\n",
    "X_train, X_test, y_train, y_test = train_test_split(X_, y, test_size=0.2,random_state =1)\n",
    "\n",
    "sc = MinMaxScaler()\n",
    "sc.fit(X_train)\n",
    "\n",
    "X = sc.transform(train[features])\n",
    "\n",
    "X_train = sc.transform(X_train)\n",
    "X_test = sc.transform(X_test)\n",
    "\n",
    "X_preds = sc.transform(test[features])\n",
    "print(X.shape)\n",
    "print(y.shape)\n",
    "print(X_preds.shape)"
   ]
  },
  {
   "cell_type": "code",
   "execution_count": 69,
   "metadata": {
    "execution": {
     "iopub.execute_input": "2021-01-31T08:28:56.326750Z",
     "iopub.status.busy": "2021-01-31T08:28:56.326091Z",
     "iopub.status.idle": "2021-01-31T08:28:56.365158Z",
     "shell.execute_reply": "2021-01-31T08:28:56.365736Z"
    },
    "papermill": {
     "duration": 0.14121,
     "end_time": "2021-01-31T08:28:56.365922",
     "exception": false,
     "start_time": "2021-01-31T08:28:56.224712",
     "status": "completed"
    },
    "tags": []
   },
   "outputs": [
    {
     "name": "stdout",
     "output_type": "stream",
     "text": [
      "Accuracy: 0.8023255813953488\n"
     ]
    },
    {
     "data": {
      "text/plain": [
       "array([[85, 14],\n",
       "       [20, 53]])"
      ]
     },
     "execution_count": 69,
     "metadata": {},
     "output_type": "execute_result"
    }
   ],
   "source": [
    "from sklearn.linear_model import LogisticRegression\n",
    "from sklearn.metrics import accuracy_score\n",
    "from sklearn.metrics import confusion_matrix\n",
    "X_train, X_test, y_train, y_test = train_test_split(X, y, test_size=0.2,random_state =1 )\n",
    "lgr = LogisticRegression()\n",
    "\n",
    "lgr.fit(X_train,y_train)\n",
    "y_pred = lgr.predict(X_test)\n",
    "\n",
    "accuracy = accuracy_score(y_test, y_pred)\n",
    "print(\"Accuracy: {}\".format(accuracy))\n",
    "confusion_matrix(y_test, y_pred)"
   ]
  },
  {
   "cell_type": "code",
   "execution_count": 70,
   "metadata": {
    "execution": {
     "iopub.execute_input": "2021-01-31T08:28:56.576664Z",
     "iopub.status.busy": "2021-01-31T08:28:56.575876Z",
     "iopub.status.idle": "2021-01-31T08:28:56.583093Z",
     "shell.execute_reply": "2021-01-31T08:28:56.583605Z"
    },
    "papermill": {
     "duration": 0.111736,
     "end_time": "2021-01-31T08:28:56.583809",
     "exception": false,
     "start_time": "2021-01-31T08:28:56.472073",
     "status": "completed"
    },
    "tags": []
   },
   "outputs": [],
   "source": [
    "results = lgr.predict(X_preds)\n",
    "sample_submission['Survived'] = results"
   ]
  },
  {
   "cell_type": "code",
   "execution_count": 71,
   "metadata": {
    "execution": {
     "iopub.execute_input": "2021-01-31T08:28:56.789617Z",
     "iopub.status.busy": "2021-01-31T08:28:56.788900Z",
     "iopub.status.idle": "2021-01-31T08:28:56.802934Z",
     "shell.execute_reply": "2021-01-31T08:28:56.804206Z"
    },
    "papermill": {
     "duration": 0.120555,
     "end_time": "2021-01-31T08:28:56.804572",
     "exception": false,
     "start_time": "2021-01-31T08:28:56.684017",
     "status": "completed"
    },
    "tags": []
   },
   "outputs": [],
   "source": [
    "sample_submission.to_csv('pred.csv', index=False)"
   ]
  }
 ],
 "metadata": {
  "kernelspec": {
   "display_name": "Python 3",
   "language": "python",
   "name": "python3"
  },
  "language_info": {
   "codemirror_mode": {
    "name": "ipython",
    "version": 3
   },
   "file_extension": ".py",
   "mimetype": "text/x-python",
   "name": "python",
   "nbconvert_exporter": "python",
   "pygments_lexer": "ipython3",
   "version": "3.7.9"
  },
  "papermill": {
   "default_parameters": {},
   "duration": 32.455814,
   "end_time": "2021-01-31T08:28:57.750235",
   "environment_variables": {},
   "exception": null,
   "input_path": "__notebook__.ipynb",
   "output_path": "__notebook__.ipynb",
   "parameters": {},
   "start_time": "2021-01-31T08:28:25.294421",
   "version": "2.2.2"
  }
 },
 "nbformat": 4,
 "nbformat_minor": 4
}
